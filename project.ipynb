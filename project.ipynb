{
 "cells": [
  {
   "cell_type": "markdown",
   "id": "14b837e6",
   "metadata": {},
   "source": [
    "**ДОБАВИЛ ЯЧЕЙКИ ПО ЗАДАНИЮ В ТЕОРЕТИЧЕСКОМ МОДУЛЕ**"
   ]
  },
  {
   "cell_type": "markdown",
   "id": "288e72b2",
   "metadata": {},
   "source": [
    "**ДОБАВИЛ ЯЧЕЙКИ ПО ЗАДАНИЮ В ТЕОРЕТИЧЕСКОМ МОДУЛЕ**"
   ]
  },
  {
   "cell_type": "markdown",
   "id": "f3dc0609",
   "metadata": {},
   "source": [
    "**ДОБАВИЛ ЯЧЕЙКИ ПО ЗАДАНИЮ В ТЕОРЕТИЧЕСКОМ МОДУЛЕ**"
   ]
  },
  {
   "cell_type": "markdown",
   "id": "2f5bfb02",
   "metadata": {},
   "source": [
    "# Проект «Обучение с учителем: качество модели»"
   ]
  },
  {
   "cell_type": "markdown",
   "id": "200bc39d",
   "metadata": {},
   "source": [
    "**Цель и задачи проекта**\n",
    "\n",
    "Целью настоящего проекта являлась разработка решения которое позволит персонализировать предложения постоянным клиентам интернет-магазина «В один клик» для увеличения их покупательной активности.\n",
    "   \n",
    "   Отчёт магазина за прошлый период показал, что активность покупателей начала снижаться. Привлекать новых клиентов уже не так эффективно: о магазине и так знает большая часть целевой аудитории. Возможный выход — удерживать активность постоянных клиентов. Сделать это можно с помощью персонализированных предложений.\n",
    "\n",
    "   В начале проекта после подготовки данных к исследованию производилась маркировка уровней финансовой активности постоянных покупателей: «снизилась» и «прежний уровень».\n",
    "\n",
    "   Собирались данные по клиентам по следующим группам: \n",
    "   * признаки, которые описывают коммуникацию сотрудников компании с клиентом;\n",
    "   * признаки, которые описывают продуктовое поведение покупателя;\t\n",
    "   * признаки, описывающие покупательское поведение клиента;\n",
    "   * признаки, описывающие поведение покупателя на сайте. \n",
    "\n",
    "   После чего проводился корреляционный анализ признаков в количественной шкале в итоговой таблице для моделирования. Был  сделан вывод о наличии мультиколлинеарности.\n",
    "\n",
    "   Далее применялись модели KNeighborsClassifier, DecisionTreeClassifier, LogisticRegression, SVC для предсказания вероятности снижения покупательской активности клиентов в последующие три месяца. Для каждой модели подбирался как минимум один гиперпараметр. Для установления лучшей модели осуществлялся аргументированный выбор метрики.\n",
    "   \n",
    "   Также была оценена важность признаков для лучшей модели и построен график важности с помощью метода SHAP. После чего были сделаны выводы о значимости признаков.\n",
    "   \n",
    "   При выполнении сегментации покупателей использовались результаты моделирования и данные о прибыльности покупателей.\n",
    "   \n",
    "   В ходе дальнейшей работы над проектом была выбрана произвольная группа покупателей для формирования ей предложений с целью увеличения покупательной способности. Для этого предварительно проводилось графическое и аналитическое исследование групп.\n",
    "   \n",
    "   В заключении проекта были сделаны выводы о сегментах:\n",
    "   * какие сегменты были выбраны для дополнительного исследования;\n",
    "   * какие предложения были сделаны покупателям и почему.\n"
   ]
  },
  {
   "cell_type": "markdown",
   "id": "1eee779b",
   "metadata": {},
   "source": [
    "## Загрузка и изучение данных"
   ]
  },
  {
   "cell_type": "markdown",
   "id": "f09ba96c",
   "metadata": {},
   "source": [
    "### Загрузка библиотек"
   ]
  },
  {
   "cell_type": "code",
   "execution_count": null,
   "id": "a9b45a86",
   "metadata": {},
   "outputs": [],
   "source": [
    "# библиотека МО на Python\n",
    "!pip install --upgrade scikit-learn -q\n",
    "\n",
    "# библиотека для интерпретации моделей МО\n",
    "!pip install shap -q\n",
    "\n",
    "# библиотека для анализа корреляции данных\n",
    "!pip install phik -q\n",
    "\n",
    "# библиотека для работы с несбалансированными выборками\n",
    "!pip install imbalanced-learn\n",
    "\n",
    "!pip install numpy==1.22.3  # для корректной визуализации по п.7.3.1\n",
    "\n",
    "!pip install matplotlib==3.5.1 # для корректной визуализации по п.7.3.1\n",
    "\n",
    "# библиотека визуализации недостающих данных\n",
    "!pip install missingno\n",
    "\n",
    "# библиотека с классами и функциями для статистических моделей\n",
    "!pip install statsmodels"
   ]
  },
  {
   "cell_type": "code",
   "execution_count": null,
   "id": "5450a55b",
   "metadata": {},
   "outputs": [],
   "source": [
    "# ЗАГРУЗКА БИБЛИОТЕК\n",
    "\n",
    "import pandas as pd                    # анализ и обработка данных\n",
    "import matplotlib                      # визуализация данных \n",
    "import matplotlib.pyplot as plt        # создание простого интерактивного графика \n",
    "import numpy as np                     # работа с многомерными массивами\n",
    "import seaborn as sns                  # визуализаци данных на основе matplotlib\n",
    "import sklearn                         # машинное обучение\n",
    "import shap                            # анализ признаков по Шепли\n",
    "import phik                            # анализ корреляции данных\n",
    "import missingno as msno               # визуализация пропусков\n",
    "import warnings                        # игнорирование предупреждений\n",
    "warnings.filterwarnings('ignore')\n",
    "\n",
    "\n",
    "# ЗАГРУЗКА МОДЕЛЕЙ\n",
    "from sklearn.linear_model import LogisticRegression\n",
    "from sklearn.neighbors import KNeighborsClassifier\n",
    "from sklearn.svm import SVC\n",
    "from sklearn.tree import DecisionTreeClassifier\n",
    "\n",
    "# ЗАГРУЗКА МЕТРИК\n",
    "from sklearn.metrics import accuracy_score, precision_score, \\\n",
    "     recall_score, f1_score, roc_auc_score\n",
    "\n",
    "# ПРЕОБРАЗОВАНИЕ ДАННЫХ ДЛЯ МО\n",
    "from sklearn.model_selection import train_test_split\n",
    "from sklearn.preprocessing import StandardScaler, MinMaxScaler, \\\n",
    "     OneHotEncoder, OrdinalEncoder, LabelEncoder\n",
    "from sklearn.compose import ColumnTransformer\n",
    "from sklearn.impute import SimpleImputer\n",
    "\n",
    "# ПАЙПЛАЙНЫ, ОПТИМИЗАЦИЯ, ОТБОР ПРИЗНАКОВ\n",
    "from sklearn.pipeline import Pipeline\n",
    "from sklearn.model_selection import RandomizedSearchCV\n",
    "from phik.report import plot_correlation_matrix\n",
    "from sklearn.model_selection import cross_val_score, cross_val_predict\n",
    "from sklearn.datasets import make_classification\n",
    "from sklearn.feature_selection import SelectKBest, f_classif, mutual_info_classif\n",
    "from statsmodels.stats.outliers_influence import variance_inflation_factor\n",
    "from sklearn.inspection import permutation_importance\n",
    "\n",
    "# МОДУЛИ ДЛЯ ПРЕДСТАВЛЕНИЯ ДАННЫХ\n",
    "from IPython.display import display    #, HTML\n",
    "pd.set_option('display.float_format', '{:,.2f}'.format)\n",
    "# display(HTML(\"<style>.container { width:90% !important; }</style>\"))\n",
    "\n",
    "# УСТАНОВКА КОНСТАНТ\n",
    "RANDOM_STATE = 42\n",
    "TEST_SIZE = 0.25"
   ]
  },
  {
   "cell_type": "markdown",
   "id": "992cc5cd",
   "metadata": {},
   "source": [
    "### Загрузка файлов, создание датасетов"
   ]
  },
  {
   "cell_type": "markdown",
   "id": "0b9d6cfd",
   "metadata": {},
   "source": [
    "#### Загрузка данных о поведении покупателя на сайте магазина, формирование датасета market_file"
   ]
  },
  {
   "cell_type": "code",
   "execution_count": null,
   "id": "f921f34c",
   "metadata": {},
   "outputs": [],
   "source": [
    "# импорт датасета\n",
    "try:\n",
    "    #market_file = pd.read_csv('/datasets/market_file.csv', sep=',', decimal='.')\n",
    "    #market_file.to_csv('market_file.csv', index=False) \n",
    "    market_file = pd.read_csv('market_file.csv', sep=',', decimal='.') \n",
    "# если не получилось прочитать файл из локальной папки, то загружаем данные из сети\n",
    "except:\n",
    "    market_file = pd.read_csv('https://code.s3.yandex.net/datasets/market_file.csv', sep=',', decimal='.')\n",
    "    # market_file = market_file.to_csv('market_file.csv', index=False)"
   ]
  },
  {
   "cell_type": "code",
   "execution_count": null,
   "id": "5c289a7c",
   "metadata": {
    "scrolled": true
   },
   "outputs": [],
   "source": [
    "market_file.head(3) # первые строки датасета в виде таблицы"
   ]
  },
  {
   "cell_type": "code",
   "execution_count": null,
   "id": "11222845",
   "metadata": {
    "scrolled": true
   },
   "outputs": [],
   "source": [
    "market_file.columns"
   ]
  },
  {
   "cell_type": "code",
   "execution_count": null,
   "id": "856bdbb4",
   "metadata": {},
   "outputs": [],
   "source": [
    "# приведение наименований столбцов к единому виду (\"змеиная запись\" и строчные буквы вместо прописных)\n",
    "market_file.columns = ['id', 'покупательская_активность', 'тип_сервиса', 'разрешить_сообщать', \n",
    "                       'маркет_актив_6_мес', 'маркет_актив_тек_мес', 'длительность', \n",
    "                       'акционные_покупки', 'популярная_категория', 'средний_просмотр_категорий_за_визит', \n",
    "                       'неоплаченные_продукты_штук_квартал', 'ошибка_сервиса', 'страниц_за_визит']\n",
    "market_file.head(1) # проверка переименования столбцов"
   ]
  },
  {
   "cell_type": "code",
   "execution_count": null,
   "id": "d6a2935f",
   "metadata": {
    "scrolled": false
   },
   "outputs": [],
   "source": [
    "market_file.info()"
   ]
  },
  {
   "cell_type": "markdown",
   "id": "5237acff",
   "metadata": {},
   "source": [
    "#### Загрузка данных с выручкой от покупателей, формирование датасета market_money"
   ]
  },
  {
   "cell_type": "code",
   "execution_count": null,
   "id": "a122c787",
   "metadata": {},
   "outputs": [],
   "source": [
    "# импорт датасета\n",
    "try:\n",
    "    #market_money = pd.read_csv('/datasets/market_money.csv', sep=',', decimal='.')\n",
    "    #market_money.to_csv('market_money.csv', index=False) \n",
    "    market_money = pd.read_csv('market_money.csv', sep=',', decimal='.')\n",
    "# если не получилось прочитать файл из локальной папки, то загружаем данные из сети\n",
    "except:\n",
    "    market_money = pd.read_csv('https://code.s3.yandex.net/datasets/market_money.csv', sep=',', decimal='.')\n",
    "    # market_money.to_csv('market_money.csv.csv', index=False)"
   ]
  },
  {
   "cell_type": "code",
   "execution_count": null,
   "id": "969ed20b",
   "metadata": {
    "scrolled": true
   },
   "outputs": [],
   "source": [
    "market_money.head(6) # первые строки датасета в виде таблицы"
   ]
  },
  {
   "cell_type": "code",
   "execution_count": null,
   "id": "a6d4a419",
   "metadata": {},
   "outputs": [],
   "source": [
    "market_money.columns"
   ]
  },
  {
   "cell_type": "code",
   "execution_count": null,
   "id": "561bf154",
   "metadata": {},
   "outputs": [],
   "source": [
    "# приведение наименований столбцов к единому виду (\"змеиная запись\" и строчные буквы вместо прописных)\n",
    "market_money.columns = ['id', 'период', 'выручка']\n",
    "market_money.head(1) # проверка переименования"
   ]
  },
  {
   "cell_type": "code",
   "execution_count": null,
   "id": "319822ab",
   "metadata": {},
   "outputs": [],
   "source": [
    "market_money.info()"
   ]
  },
  {
   "cell_type": "markdown",
   "id": "4cb1de47",
   "metadata": {},
   "source": [
    "#### Загрузка данных проведенном покупателями времени на сайте, формирование датасета market_time"
   ]
  },
  {
   "cell_type": "code",
   "execution_count": null,
   "id": "2cc5d2f7",
   "metadata": {},
   "outputs": [],
   "source": [
    "# импорт датасета\n",
    "try:\n",
    "    #market_time = pd.read_csv('/datasets/market_time.csv', sep=',', decimal='.')\n",
    "    #market_time.to_csv('market_time.csv', index=False) \n",
    "    market_time = pd.read_csv('market_time.csv', sep=',', decimal='.')\n",
    "# если не получилось прочитать файл из локальной папки, то загружаем данные из сети\n",
    "except:\n",
    "    market_time = pd.read_csv('https://code.s3.yandex.net/datasets/market_time.csv', sep=',', decimal='.')\n",
    "    # market_time.to_csv('market_time.csv.csv', index=False)"
   ]
  },
  {
   "cell_type": "code",
   "execution_count": null,
   "id": "a594a917",
   "metadata": {},
   "outputs": [],
   "source": [
    "market_time.head(4) # первые строки датасета в виде таблицы"
   ]
  },
  {
   "cell_type": "code",
   "execution_count": null,
   "id": "55fcc307",
   "metadata": {},
   "outputs": [],
   "source": [
    "market_time.columns"
   ]
  },
  {
   "cell_type": "code",
   "execution_count": null,
   "id": "229e8db9",
   "metadata": {},
   "outputs": [],
   "source": [
    "# приведение наименований столбцов к единому виду (\"змеиная запись\" и строчные буквы вместо прописных)\n",
    "market_time.columns = ['id', 'период', 'минут']\n",
    "market_time.head(1) # проверка переименования столбцов"
   ]
  },
  {
   "cell_type": "code",
   "execution_count": null,
   "id": "aeb47f77",
   "metadata": {},
   "outputs": [],
   "source": [
    "market_time.info() # вывод общей информации о датасете"
   ]
  },
  {
   "cell_type": "markdown",
   "id": "cdb28946",
   "metadata": {},
   "source": [
    "#### Загрузка данных по прибыли магазина по каждому покупателю, формирование датасета money"
   ]
  },
  {
   "cell_type": "code",
   "execution_count": null,
   "id": "362ddc60",
   "metadata": {},
   "outputs": [],
   "source": [
    "# импорт датасета\n",
    "try:\n",
    "    #money = pd.read_csv('/datasets/money.csv', sep=';', decimal=',')\n",
    "    #money.to_csv('money.csv', index=False) \n",
    "    money = pd.read_csv('money.csv', sep=';', decimal=',')\n",
    "# если не получилось прочитать файл из локальной папки, то загружаем данные из сети\n",
    "except:\n",
    "    money = pd.read_csv('https://code.s3.yandex.net/datasets/money.csv', sep=';', decimal=',')\n",
    "    # market_time.to_csv('market_time.csv.csv', index=False)"
   ]
  },
  {
   "cell_type": "code",
   "execution_count": null,
   "id": "60eb71b0",
   "metadata": {},
   "outputs": [],
   "source": [
    "money.head(3) # первые строки датасета в виде таблицы"
   ]
  },
  {
   "cell_type": "code",
   "execution_count": null,
   "id": "88000017",
   "metadata": {},
   "outputs": [],
   "source": [
    "money.columns"
   ]
  },
  {
   "cell_type": "code",
   "execution_count": null,
   "id": "33d618f5",
   "metadata": {},
   "outputs": [],
   "source": [
    "# приведение наименований столбцов к единому виду (без заглавных букв)\n",
    "money.columns = ['id', 'прибыль']\n",
    "money.head(1) # проверка переименования столбцов"
   ]
  },
  {
   "cell_type": "code",
   "execution_count": null,
   "id": "68ed7540",
   "metadata": {},
   "outputs": [],
   "source": [
    "money.info() # вывод общей информации о датасете"
   ]
  },
  {
   "cell_type": "markdown",
   "id": "314e7fc0",
   "metadata": {},
   "source": [
    "### Выводы:\n",
    "\n",
    "**1.** Данные введены корректно, пропуски отсутствуют. Сформированы датасеты **market_file, market_money, market_time, money**.\n",
    "\n",
    "**2.** Количество строк в датасетах не одинаковое (кроме **market_file** и **money**), но кратно 2 или 3. Обусловлено тем, что в **market_money** и **market_time** на один **id** приходится по 3 или 2 строки с данными, в зависимости от значений периодичности по признаку **'период'**. \n",
    "\n",
    "**3.** При первичном ознакомлении с данными сделан вывод, что все признаки в датасетах имеют отношение к содержанию поставленных задач исследования.\n",
    "\n",
    "**4.** Данные в таблицах соответствуют описанию. Значения признаков всех импортиованных датасетов имеют надлежащие типы данных.\n",
    "\n",
    "**5.** Названия всех признаков (столбцов) приведены к одному виду (\"змеиная запись\" и строчные буквы вместо прописных)."
   ]
  },
  {
   "cell_type": "markdown",
   "id": "388989fa",
   "metadata": {},
   "source": [
    "## Предобработка данных"
   ]
  },
  {
   "cell_type": "markdown",
   "id": "2c0a04d3",
   "metadata": {},
   "source": [
    "### Проверка данных датафреймов на наличие пропусков"
   ]
  },
  {
   "cell_type": "code",
   "execution_count": null,
   "id": "55abe514",
   "metadata": {},
   "outputs": [],
   "source": [
    "# Функция проверки наличия пропусков в датафреймах\n",
    "def chec_nan(list_3, list_4):\n",
    "    for i, k in zip(list_3, list_4):                # цикл с перебором датафреймов при проверке\n",
    "        print()\n",
    "        print(f'Проверка датафрейма {k} на наличие пропусков:')\n",
    "        print(i.isna().sum())                       # проверка очередного датафрейма\n",
    "    return"
   ]
  },
  {
   "cell_type": "code",
   "execution_count": null,
   "id": "cfaa6a6d",
   "metadata": {},
   "outputs": [],
   "source": [
    "msno.bar(market_file)      #heatmap(market_file)"
   ]
  },
  {
   "cell_type": "code",
   "execution_count": null,
   "id": "a4269859",
   "metadata": {},
   "outputs": [],
   "source": [
    "# пропусков нет (все белое)\n",
    "msno.heatmap(market_file)"
   ]
  },
  {
   "cell_type": "code",
   "execution_count": null,
   "id": "7d064da2",
   "metadata": {},
   "outputs": [],
   "source": [
    "list_1 = [market_file, market_money, market_time, money]          # список датафреймов \n",
    "list_2 = [\"market_file\", \"market_money\", \"market_time\", \"money\"]    # список названий датафреймов\n",
    "chec_nan(list_1, list_2)              # вызов функции поиска пропусков"
   ]
  },
  {
   "cell_type": "markdown",
   "id": "03a28015",
   "metadata": {},
   "source": [
    "### Проверка датафреймов на наличие полных дубликатов"
   ]
  },
  {
   "cell_type": "code",
   "execution_count": null,
   "id": "ee1c8c68",
   "metadata": {},
   "outputs": [],
   "source": [
    "# Функция проверки наличия полных дубликатов в датафреймах\n",
    "def chec_dupl(list_3, list_4):\n",
    "    print()\n",
    "    for i, k in zip(list_3, list_4):                # цикл с перебором датафреймов при проверке\n",
    "        print(f'Проверка датафрейма {k} на наличие полных дубликатов: {i.duplicated().sum()}')\n",
    "    return"
   ]
  },
  {
   "cell_type": "code",
   "execution_count": null,
   "id": "ee529f75",
   "metadata": {},
   "outputs": [],
   "source": [
    "list_1 = [market_file, market_money, market_time, money]          # список датафреймов \n",
    "list_2 = [\"market_file\", \"market_money\", \"market_time\", \"money\"]    # список названий датафреймов\n",
    "chec_dupl(list_1, list_2)             # вызов функции поиска полных дубликатов"
   ]
  },
  {
   "cell_type": "markdown",
   "id": "88d85158",
   "metadata": {},
   "source": [
    "### Проверка наличия неявных дубликатов в столбцах датафреймов с категориальными данными"
   ]
  },
  {
   "cell_type": "markdown",
   "id": "e728919b",
   "metadata": {},
   "source": [
    "#### Функция поиска неявных дубликатов значений в категориальных столбцах датафреймов"
   ]
  },
  {
   "cell_type": "code",
   "execution_count": null,
   "id": "11531378",
   "metadata": {},
   "outputs": [],
   "source": [
    "# Функция поиска неявных дубликатов в столбцах, вывод уникальных значений\n",
    "def chec_implicit_dupl(df_name):\n",
    "    # список столбцов датафрейма\n",
    "    list_1 = df_name.select_dtypes(exclude='number').columns.tolist()\n",
    "    # цикл с перебором столбцов при проверке\n",
    "    for i in list_1: \n",
    "        print(f'Уникальные значения в столбце \"{i}\": {df_name[i].unique()}')\n",
    "    return"
   ]
  },
  {
   "cell_type": "markdown",
   "id": "5efb0afc",
   "metadata": {},
   "source": [
    "#### Проверка датафрейма market_file"
   ]
  },
  {
   "cell_type": "code",
   "execution_count": null,
   "id": "6194ac61",
   "metadata": {},
   "outputs": [],
   "source": [
    "chec_implicit_dupl(market_file)     # вызов функции поиска неявных дубликатов"
   ]
  },
  {
   "cell_type": "code",
   "execution_count": null,
   "id": "b27cdc59",
   "metadata": {},
   "outputs": [],
   "source": [
    "# обнаружение неявных дубликатов 'стандартт'\n",
    "market_file['тип_сервиса'].value_counts()"
   ]
  },
  {
   "cell_type": "code",
   "execution_count": null,
   "id": "98443e27",
   "metadata": {},
   "outputs": [],
   "source": [
    "# устранение неявных дубликатов в столбце 'тип_сервиса', переименование значений\n",
    "market_file['тип_сервиса'] = (market_file['тип_сервиса'].replace('стандартт', 'стандарт'))\n",
    "market_file['тип_сервиса'].unique()     # проверка устранения неявного дубликата"
   ]
  },
  {
   "cell_type": "markdown",
   "id": "acef4fe9",
   "metadata": {},
   "source": [
    "#### Проверка датафрейма market_money"
   ]
  },
  {
   "cell_type": "code",
   "execution_count": null,
   "id": "0e93774f",
   "metadata": {
    "scrolled": true
   },
   "outputs": [],
   "source": [
    "chec_implicit_dupl(market_money)          # вызов функции поиска неявных дубликатов"
   ]
  },
  {
   "cell_type": "markdown",
   "id": "3c07b289",
   "metadata": {},
   "source": [
    "#### Проверка датафрейма market_time"
   ]
  },
  {
   "cell_type": "code",
   "execution_count": null,
   "id": "d9f18be8",
   "metadata": {},
   "outputs": [],
   "source": [
    "chec_implicit_dupl(market_time)   "
   ]
  },
  {
   "cell_type": "code",
   "execution_count": null,
   "id": "16d13951",
   "metadata": {},
   "outputs": [],
   "source": [
    "# устранение неявных дубликатов в столбце 'тип_сервиса', переименование значений\n",
    "market_time['период'] = (market_time['период'].replace('предыдцщий_месяц', 'предыдущий_месяц'))\n",
    "market_time['период'].unique()     # проверка устранения неявного дубликата"
   ]
  },
  {
   "cell_type": "markdown",
   "id": "dbf41904",
   "metadata": {},
   "source": [
    "### Выводы:\n",
    "\n",
    "**1.** Данные в датафреймах полных дубликатов не содержат.\n",
    "\n",
    "**2.** В датафрейме **market_file** в столбце *'тип_сервиса'* обнаружены неявные дубликаты категориальных значений ('стандартт' - 10 шт.), которые путем приведения к одному значению ('стандарт') устранены."
   ]
  },
  {
   "cell_type": "markdown",
   "id": "a1529138",
   "metadata": {},
   "source": [
    "## Исследовательский анализ данных\n",
    "\n",
    "Объектом исследования, согласно заданию к проекту, являются данные по клиентам с покупательской активностью не менее трёх месяцев, то есть таких, которые что-либо покупали в этот период. Таким образом, перед проведением исследовательского анализа данных и работой по проекту в целом необходимо \"отсечь\" данные клиентов, покупательская активность которых не приходится на этот период. Отсев таких клиентов можно осуществить на основании датафрейма **market_money**, который содержит помесячную выручку по покупателям за последние 3 месяца. \n",
    "\n",
    "В п.3.1 сначала была осуществлена проверка датафреймов **market_file, market_money, market_time** на наличие дубликатов по столбцу **id** с учетом кратности значений в нем из-за разнесения данных по периодам в столбце **период**. Далее датафрейм **market_money** был преобразован в таблицу **new_market_money** с внесением в созданные столбцы помесячных выручек по покупателям. После чего было проведено присоединение столбцов таблицы **new_market_money** к таблице **market_file** с образованием датафрема **df** (объединение в **df** данных будет использовано в дальнейшем). \n",
    "\n",
    "И в завершении объединения к таблице **df** были добавлены данные из датафрейма **market_time**."
   ]
  },
  {
   "cell_type": "markdown",
   "id": "f74368c3",
   "metadata": {},
   "source": [
    "### Объединение данных датафреймов market_file,  market_money, market_time в общую таблицу df и отбор данных по покупателям с покупательской активностью не менее 3 меяцев"
   ]
  },
  {
   "cell_type": "markdown",
   "id": "0c3e0ef4",
   "metadata": {},
   "source": [
    "####  Объединение данных датафреймов market_file, market_money, market_time в общую таблицу df "
   ]
  },
  {
   "cell_type": "code",
   "execution_count": null,
   "id": "6801f924",
   "metadata": {},
   "outputs": [],
   "source": [
    "# проверка отсутствия дубликатов 'id' в датасете market_file\n",
    "market_file['id'].duplicated().sum() "
   ]
  },
  {
   "cell_type": "code",
   "execution_count": null,
   "id": "18912bad",
   "metadata": {},
   "outputs": [],
   "source": [
    "# проверка отсутствия дубликатов 'id' в датасете market_money\n",
    "market_money.value_counts().count()/3 - 1300"
   ]
  },
  {
   "cell_type": "code",
   "execution_count": null,
   "id": "6262fc69",
   "metadata": {},
   "outputs": [],
   "source": [
    "# проверка отсутствия дубликатов 'id' в датасете market_time\n",
    "market_time.value_counts().count()/2 - 1300  "
   ]
  },
  {
   "cell_type": "code",
   "execution_count": null,
   "id": "c3e0c98e",
   "metadata": {},
   "outputs": [],
   "source": [
    "# создание на основе датафрейма market_file таблицы df, в которой будут включены данные из других датафреймов\n",
    "df = market_file"
   ]
  },
  {
   "cell_type": "code",
   "execution_count": null,
   "id": "ba1c4d0f",
   "metadata": {},
   "outputs": [],
   "source": [
    "# назначение индексом признака 'id' в д/ф df\n",
    "df = df.set_index('id')\n",
    "df.head(2)"
   ]
  },
  {
   "cell_type": "code",
   "execution_count": null,
   "id": "48953158",
   "metadata": {},
   "outputs": [],
   "source": [
    "market_money.head(6) # первые строки датасета market_money в виде таблицы"
   ]
  },
  {
   "cell_type": "code",
   "execution_count": null,
   "id": "e77f9b05",
   "metadata": {},
   "outputs": [],
   "source": [
    "# создание из д/ф market_money таблицы со столбцами по выручке за каждый период и проверка\n",
    "new_market_money = market_money.pivot_table(index='id', columns='период', values='выручка')\n",
    "new_market_money.head(2)"
   ]
  },
  {
   "cell_type": "code",
   "execution_count": null,
   "id": "822ee161",
   "metadata": {},
   "outputs": [],
   "source": [
    "# форма таблицы df до объединения\n",
    "df.shape  "
   ]
  },
  {
   "cell_type": "code",
   "execution_count": null,
   "id": "511022bb",
   "metadata": {},
   "outputs": [],
   "source": [
    "# форма таблицы new_market_money до объединения\n",
    "new_market_money.shape"
   ]
  },
  {
   "cell_type": "code",
   "execution_count": null,
   "id": "c5072237",
   "metadata": {},
   "outputs": [],
   "source": [
    "# присоединение к таблице df таблицы new_market_money с выручкой по 3 последним месяцам\n",
    "df = df.join(new_market_money)\n",
    "df.head(2) # контроль результата объединения таблиц"
   ]
  },
  {
   "cell_type": "code",
   "execution_count": null,
   "id": "07249020",
   "metadata": {},
   "outputs": [],
   "source": [
    "# форма таблицы после объединения\n",
    "df.shape  "
   ]
  },
  {
   "cell_type": "code",
   "execution_count": null,
   "id": "32e3f803",
   "metadata": {},
   "outputs": [],
   "source": [
    "# переименование столбцов df для избежания одинаковых наименований при объединении с таблицей market_time\n",
    "df.columns = ['покупательская_активность', 'тип_сервиса', 'разрешить_сообщать',\n",
    "              'маркет_актив_6_мес', 'маркет_актив_тек_мес', 'длительность',\n",
    "              'акционные_покупки', 'популярная_категория', 'сред_просм_кат_за_визит',\n",
    "              'неоплач_прод_кварт', 'ошибка_сервиса', 'страниц_за_визит', \n",
    "              'выручка_пред_месяц', 'выручка_препред_месяц','выручка_тек_месяц']\n",
    "df.columns # проверка результата переименования"
   ]
  },
  {
   "cell_type": "code",
   "execution_count": null,
   "id": "8693ee3e",
   "metadata": {},
   "outputs": [],
   "source": [
    "# первые строки датасета market_time в виде таблицы\n",
    "market_time.head(4) "
   ]
  },
  {
   "cell_type": "code",
   "execution_count": null,
   "id": "fde9c279",
   "metadata": {},
   "outputs": [],
   "source": [
    "# создание из д/ф market_time таблицы со столбцами по времени, проведенном на сайте\n",
    "new_market_time = market_time.pivot_table(index='id', columns='период', values='минут')\n",
    "new_market_time.head(2)"
   ]
  },
  {
   "cell_type": "code",
   "execution_count": null,
   "id": "14c0afe4",
   "metadata": {},
   "outputs": [],
   "source": [
    "# переименование столбцов\n",
    "new_market_time.columns = ['время_пред_месяц', 'время_тек_месяц']\n",
    "new_market_time.columns # проверка результата переименования"
   ]
  },
  {
   "cell_type": "code",
   "execution_count": null,
   "id": "29f54773",
   "metadata": {},
   "outputs": [],
   "source": [
    "# форма new_market_time до присоединения к df\n",
    "new_market_time.shape"
   ]
  },
  {
   "cell_type": "code",
   "execution_count": null,
   "id": "c03102c1",
   "metadata": {},
   "outputs": [],
   "source": [
    "# присоединение к таблице df таблицы new_market_time\n",
    "df = df.merge(new_market_time, on='id')\n",
    "df.head(3)  # проверка результата слияния"
   ]
  },
  {
   "cell_type": "code",
   "execution_count": null,
   "id": "75d00b20",
   "metadata": {},
   "outputs": [],
   "source": [
    "# форма df после присоединения new_market_time\n",
    "df.shape"
   ]
  },
  {
   "cell_type": "code",
   "execution_count": null,
   "id": "60f20fee",
   "metadata": {},
   "outputs": [],
   "source": [
    "# назначение индексом признака 'id' в д/ф money\n",
    "money = money.set_index('id')\n",
    "\n",
    "# присоединение к таблице df таблицы money с прибылью по покупателям по 3 последним месяцам\n",
    "df = df.join(money)\n",
    "df.head(2) # контроль результата объединения таблиц"
   ]
  },
  {
   "cell_type": "code",
   "execution_count": null,
   "id": "50e57471",
   "metadata": {},
   "outputs": [],
   "source": [
    "# форма df после присоединения money\n",
    "df.shape"
   ]
  },
  {
   "cell_type": "markdown",
   "id": "7fdaa690",
   "metadata": {},
   "source": [
    "#### Отбор данных по покупателям с покупательской активностью не менее 3 меяцев¶"
   ]
  },
  {
   "cell_type": "code",
   "execution_count": null,
   "id": "0b9df569",
   "metadata": {},
   "outputs": [],
   "source": [
    "# удаление в df данных по покупателям с нулевой покупательной активностью \n",
    "# хотя бы в одном из 3 месяцев\n",
    "df = df.loc[(df['выручка_пред_месяц'] > 0) & (df[\n",
    "    'выручка_препред_месяц'] > 0) & (df['выручка_тек_месяц'] > 0)]\n",
    "\n",
    "# форма таблицы после удаления данных, не удовлетворяющих условию\n",
    "df.shape"
   ]
  },
  {
   "cell_type": "code",
   "execution_count": null,
   "id": "3ba63872",
   "metadata": {},
   "outputs": [],
   "source": [
    "# \"сброс\" индекса\n",
    "df = df.reset_index(drop =True)"
   ]
  },
  {
   "cell_type": "markdown",
   "id": "5917c78c",
   "metadata": {},
   "source": [
    "**Результат.** Из таблица **df** удалены три строки, не удовлетворяющие условию."
   ]
  },
  {
   "cell_type": "markdown",
   "id": "c8d1a26c",
   "metadata": {},
   "source": [
    "*Результат.*\n",
    "\n",
    "**1.** Объединение датасетов произведено с образованием таблицы исходных данных **df**, которая может быть использована для исследовательского анализа данных и дальнейшей работы.\n",
    "\n",
    "**2.** Из итогового датафрейма удалены три строки по покупателям с покупательской активностью менее 3 мес.\n",
    "\n",
    "**3.** При ознакомлении с датафреймом **market_file** в признаке **покупательская_активность** было обнаружено последовательное следование сначала строк со значением этого признака 'Снизилась', а затем со значениями 'Прежний уровень'. При разбиении данных на выборки перед началом моделирования необходимо проведение стратификации данных. \n",
    "\n",
    "**4.** В завершении данного раздела произведен \"сброс\" индекса."
   ]
  },
  {
   "cell_type": "markdown",
   "id": "7a1d10e0",
   "metadata": {},
   "source": [
    "### Количественные признаки данных датафрема df"
   ]
  },
  {
   "cell_type": "markdown",
   "id": "88fc6aa0",
   "metadata": {},
   "source": [
    "#### Функция графического представления непрерывных количественных признаков"
   ]
  },
  {
   "cell_type": "code",
   "execution_count": null,
   "id": "8a1c0ab3",
   "metadata": {},
   "outputs": [],
   "source": [
    "def cat_numeric(\n",
    "    cat_column, \n",
    "    df_val\n",
    "    ) -> str:\n",
    "    \"\"\" Функция  графического представления количественных признаков\n",
    "        (... необходимые детали алгоритма, если нужо ...)\n",
    "    Args:\n",
    "        cat_column: столбец датафрейма со значениями по признаку\n",
    "        df_val: название признака\n",
    "    Returns:\n",
    "        plots: Построение гистограммы и боксплота по признаку \n",
    "    Rises:\n",
    "        ValueError: Какие ошибки могут возникнуть во время работы функции \n",
    "                    и какой Error или Exception мы можем ожидать\n",
    "    \"\"\"   \n",
    "    \n",
    "    array_gr = cat_column.to_numpy()\n",
    "    plt.figure(figsize=(10, 7))\n",
    "    bins =  plt.hist(array_gr, bins=50)\n",
    "    plt.vlines(x=array_gr.mean(), colors='red', ymin=bins[0].min(), ymax=bins[0].max(),  label='Среднее значение')\n",
    "    plt.title(f'Гистограмма распределения признака {df_val}')\n",
    "    plt.legend()\n",
    "    plt.ylabel('частота')\n",
    "    plt.xlabel('значения признака')\n",
    "    plt.show()\n",
    "    plt.figure(figsize=(10, 3))\n",
    "    plt.title(f'Boxplot для признака {df_val}')\n",
    "    plt.boxplot(array_gr, vert=False)\n",
    "    plt.xlabel('значения признака')\n",
    "    plt.show()\n",
    "    return"
   ]
  },
  {
   "cell_type": "code",
   "execution_count": null,
   "id": "b335faab",
   "metadata": {},
   "outputs": [],
   "source": [
    "print(cat_numeric.__doc__)"
   ]
  },
  {
   "cell_type": "code",
   "execution_count": null,
   "id": "a5668a20",
   "metadata": {},
   "outputs": [],
   "source": [
    "help(cat_numeric)"
   ]
  },
  {
   "cell_type": "markdown",
   "id": "ec13bbeb",
   "metadata": {},
   "source": [
    "#### Функция графического представления дискретных количественных признаков"
   ]
  },
  {
   "cell_type": "code",
   "execution_count": null,
   "id": "c24348fd",
   "metadata": {},
   "outputs": [],
   "source": [
    "def cat_discr_numeric(discr_column):\n",
    "    plt.figure(figsize=(12, 5))\n",
    "    sns.countplot(x=discr_column, data=df, hue = 'покупательская_активность')\n",
    "    plt.title(f'Гистограмма распределения признака \"{discr_column}\"')\n",
    "    plt.ylabel('частота')\n",
    "    plt.xlabel('значения признака')\n",
    "    plt.show()\n",
    "    return"
   ]
  },
  {
   "cell_type": "markdown",
   "id": "f80cd851",
   "metadata": {},
   "source": [
    "#### Ознакомление с общими статистическими характеристиками количественных признаков"
   ]
  },
  {
   "cell_type": "code",
   "execution_count": null,
   "id": "8d4544cb",
   "metadata": {},
   "outputs": [],
   "source": [
    "df.head()"
   ]
  },
  {
   "cell_type": "code",
   "execution_count": null,
   "id": "95b0d95f",
   "metadata": {},
   "outputs": [],
   "source": [
    "# обзор основных характеристик значений в числовых столбцах\n",
    "df.describe().T"
   ]
  },
  {
   "cell_type": "markdown",
   "id": "e67e7fcc",
   "metadata": {},
   "source": [
    "*Результат:*\n",
    "\n",
    "**1.** Обнаружено существенное различие значений медианы и средней у признака **'акционные_покупки'**. Возможно присутствуют выбросы. Необходимо обратить внимание в дальнейшем.\n",
    "\n",
    "**2.** В признаке **'выручка_тек_месяц'** обнаружено аномально высокое максимальное значение равное **106 862 руб.**."
   ]
  },
  {
   "cell_type": "code",
   "execution_count": null,
   "id": "1fa1fdfc",
   "metadata": {},
   "outputs": [],
   "source": [
    "# количественные признаки\n",
    "df.select_dtypes(include='number').columns.tolist()"
   ]
  },
  {
   "cell_type": "markdown",
   "id": "f1ee7d5f",
   "metadata": {},
   "source": [
    "#### Признак \"маркет актив 6 мес\""
   ]
  },
  {
   "cell_type": "code",
   "execution_count": null,
   "id": "e506f491",
   "metadata": {},
   "outputs": [],
   "source": [
    "cat_numeric(df['маркет_актив_6_мес'], '\"Кол-во среднемес. маркет. коммуникаций за 6 мес.\"')"
   ]
  },
  {
   "cell_type": "markdown",
   "id": "ab661706",
   "metadata": {},
   "source": [
    "*Результат.* Отмечаются выбросы слева от медианы."
   ]
  },
  {
   "cell_type": "markdown",
   "id": "6b80999a",
   "metadata": {},
   "source": [
    "#### Признак \"маркет_актив_тек_мес\""
   ]
  },
  {
   "cell_type": "code",
   "execution_count": null,
   "id": "57e885c8",
   "metadata": {},
   "outputs": [],
   "source": [
    "cat_discr_numeric('маркет_актив_тек_мес')"
   ]
  },
  {
   "cell_type": "markdown",
   "id": "02c35551",
   "metadata": {},
   "source": [
    "#### Признак \"длительность\""
   ]
  },
  {
   "cell_type": "code",
   "execution_count": null,
   "id": "9a28ff66",
   "metadata": {},
   "outputs": [],
   "source": [
    "cat_numeric(df['длительность'], '\"Кол-во дней после регистрации покупателя\"')"
   ]
  },
  {
   "cell_type": "markdown",
   "id": "f148ef8a",
   "metadata": {},
   "source": [
    "#### Признак \"акционные_покупки\"\t"
   ]
  },
  {
   "cell_type": "code",
   "execution_count": null,
   "id": "402d84a6",
   "metadata": {},
   "outputs": [],
   "source": [
    "cat_numeric(df['акционные_покупки'], '\"Среднемес. доля покупок по акции за 6 мес.\"')"
   ]
  },
  {
   "cell_type": "code",
   "execution_count": null,
   "id": "095c3b0e",
   "metadata": {},
   "outputs": [],
   "source": [
    "sns.histplot(data = df, x = 'акционные_покупки', hue='покупательская_активность', bins=50, multiple='dodge');"
   ]
  },
  {
   "cell_type": "markdown",
   "id": "774ecfee",
   "metadata": {},
   "source": [
    "*Результат.* Выявлена кластеризация данных признака по двум категориям (правый кластер не  выброс). В связи с чем, на основе этого признака был создан дополнительный бинарный признака признак **'акц_пок_бин'**, **0** признаку присваивался при значениях признака **'акционные_покупки'** ниже **0.6** и **1** - при превышении этого предела. Однако, при построении матрицы корреляции в п.4.2 эти два признака оказались **мультиколлениарными**, причем связь бинарного признака **'акц_пок_бин'** с целевым (0,49) оказалась слабее связи признака **'акционные_покупки'** (0,51). В связи с этим, признак **'акц_пок_бин'** был исключен из датафрейма **df**."
   ]
  },
  {
   "cell_type": "markdown",
   "id": "7acb2dea",
   "metadata": {},
   "source": [
    "#### Признак \"сред_просм_кат_за_визит\"\t"
   ]
  },
  {
   "cell_type": "code",
   "execution_count": null,
   "id": "499052d8",
   "metadata": {},
   "outputs": [],
   "source": [
    "cat_discr_numeric('сред_просм_кат_за_визит')"
   ]
  },
  {
   "cell_type": "markdown",
   "id": "39c07672",
   "metadata": {},
   "source": [
    "#### Признак \"неоплач_прод_кварт\"\t"
   ]
  },
  {
   "cell_type": "code",
   "execution_count": null,
   "id": "1de8e830",
   "metadata": {},
   "outputs": [],
   "source": [
    "cat_discr_numeric('неоплач_прод_кварт')"
   ]
  },
  {
   "cell_type": "markdown",
   "id": "daae1cd9",
   "metadata": {},
   "source": [
    "#### Признак \"ошибка_сервиса\"\t"
   ]
  },
  {
   "cell_type": "code",
   "execution_count": null,
   "id": "8415e68d",
   "metadata": {},
   "outputs": [],
   "source": [
    "cat_discr_numeric('ошибка_сервиса')"
   ]
  },
  {
   "cell_type": "markdown",
   "id": "edb36a5f",
   "metadata": {},
   "source": [
    "#### Признак \"страниц_за_визит\"\t"
   ]
  },
  {
   "cell_type": "code",
   "execution_count": null,
   "id": "84d9e6c2",
   "metadata": {},
   "outputs": [],
   "source": [
    "cat_discr_numeric('страниц_за_визит')"
   ]
  },
  {
   "cell_type": "markdown",
   "id": "53e20c9a",
   "metadata": {},
   "source": [
    "#### Признак \"выручка_пред_месяц\"\t"
   ]
  },
  {
   "cell_type": "code",
   "execution_count": null,
   "id": "e5aee3d7",
   "metadata": {},
   "outputs": [],
   "source": [
    "cat_numeric(df['выручка_пред_месяц'], '\"Выручка по клиентам в предыдущий месяц\"')"
   ]
  },
  {
   "cell_type": "markdown",
   "id": "217d5ba4",
   "metadata": {},
   "source": [
    "#### Признак \"выручка_препред_месяц\""
   ]
  },
  {
   "cell_type": "code",
   "execution_count": null,
   "id": "f2469fb4",
   "metadata": {},
   "outputs": [],
   "source": [
    "cat_numeric(df['выручка_препред_месяц'], '\"Выручка по клиентам в препредыдущий месяц\"')"
   ]
  },
  {
   "cell_type": "markdown",
   "id": "8445f920",
   "metadata": {},
   "source": [
    "#### Признак \"выручка_тек_месяц\"\t"
   ]
  },
  {
   "cell_type": "code",
   "execution_count": null,
   "id": "a9ca185a",
   "metadata": {},
   "outputs": [],
   "source": [
    "cat_numeric(df['выручка_тек_месяц'], '\"Выручка по клиентам в текущем месяце\"')"
   ]
  },
  {
   "cell_type": "markdown",
   "id": "9c96b231",
   "metadata": {},
   "source": [
    "**Результат.** Обнаружено аномально высокое значение признака \"выручка_тек_месяц\""
   ]
  },
  {
   "cell_type": "code",
   "execution_count": null,
   "id": "fd56668e",
   "metadata": {},
   "outputs": [],
   "source": [
    "# определение значения выброса, превышающего 100000 руб.\n",
    "df['выручка_тек_месяц'].sort_values(ascending=False).head(2)"
   ]
  },
  {
   "cell_type": "code",
   "execution_count": null,
   "id": "2eaeee23",
   "metadata": {},
   "outputs": [],
   "source": [
    "# удаление аномального значения заменой его на медианное\n",
    "df.loc[df['выручка_тек_месяц'] >= 20000, 'выручка_тек_месяц'] = df.loc[df['выручка_тек_месяц'] < 20000, 'выручка_тек_месяц'].median()\n",
    "df.loc[29, 'выручка_тек_месяц']  # проверка замены"
   ]
  },
  {
   "cell_type": "code",
   "execution_count": null,
   "id": "f33a8279",
   "metadata": {},
   "outputs": [],
   "source": [
    "# после удаления аномалии\n",
    "cat_numeric(df['выручка_тек_месяц'], '\"Выручка по клиентам в текущем месяце\"')"
   ]
  },
  {
   "cell_type": "markdown",
   "id": "db4d091c",
   "metadata": {},
   "source": [
    "#### Признак \"время_пред_месяц\""
   ]
  },
  {
   "cell_type": "code",
   "execution_count": null,
   "id": "9d576617",
   "metadata": {},
   "outputs": [],
   "source": [
    "cat_discr_numeric('время_пред_месяц')"
   ]
  },
  {
   "cell_type": "markdown",
   "id": "641fc361",
   "metadata": {},
   "source": [
    "#### Признак \"время_тек_месяц\"\t"
   ]
  },
  {
   "cell_type": "code",
   "execution_count": null,
   "id": "e75f1517",
   "metadata": {},
   "outputs": [],
   "source": [
    "cat_discr_numeric('время_тек_месяц')"
   ]
  },
  {
   "cell_type": "markdown",
   "id": "49d8f2fc",
   "metadata": {},
   "source": [
    "#### Признак \"прибыль\"\t"
   ]
  },
  {
   "cell_type": "code",
   "execution_count": null,
   "id": "0a5b682b",
   "metadata": {},
   "outputs": [],
   "source": [
    "cat_numeric(df['прибыль'], '\"Прибыль\"')"
   ]
  },
  {
   "cell_type": "markdown",
   "id": "ee4d61df",
   "metadata": {},
   "source": [
    "#### Построение гистограмм и диаграммы размаха для количественных признаков датафрейма df"
   ]
  },
  {
   "cell_type": "markdown",
   "id": "19d0dbdf",
   "metadata": {},
   "source": [
    "**Функция для построения обзорных гистограмм и диаграмм размаха для количественных признаков датафрейма df**"
   ]
  },
  {
   "cell_type": "code",
   "execution_count": null,
   "id": "f4776624",
   "metadata": {},
   "outputs": [],
   "source": [
    "def hist_all_num(list_num):\n",
    "    fig, axes = plt.subplots(nrows=1, ncols=2, figsize=(13,5))\n",
    "    df[list_num].plot(kind='hist', bins=30, alpha=0.5, ax=axes[0])\n",
    "    axes[0].set_title('Гистограмма распределения')\n",
    "    df[list_num].plot(kind='box', ax=axes[1], rot=60)\n",
    "    axes[1].set_title('Разброс значений признаков')\n",
    "    plt.ylabel('значения признаков')\n",
    "    plt.show()\n",
    "    return"
   ]
  },
  {
   "cell_type": "markdown",
   "id": "14e73cd3",
   "metadata": {},
   "source": [
    "**Обзорная гистограмма и диаграмма размаха для количественных признаков датафрейма df, за исключением признаков по выручке и длительности**"
   ]
  },
  {
   "cell_type": "code",
   "execution_count": null,
   "id": "cc6149a2",
   "metadata": {},
   "outputs": [],
   "source": [
    "# признаки для гистограммы и диаграммы размаха\n",
    "num_col_names = df.select_dtypes(include='number').columns.tolist()\n",
    "num_col_names = ['маркет_актив_6_мес', 'маркет_актив_тек_мес', 'акционные_покупки', 'сред_просм_кат_за_визит', \n",
    "                 'неоплач_прод_кварт', 'ошибка_сервиса', 'страниц_за_визит', 'время_пред_месяц', \n",
    "                 'время_тек_месяц', 'прибыль']\n",
    "\n",
    "# вызов функции\n",
    "hist_all_num(num_col_names)"
   ]
  },
  {
   "cell_type": "markdown",
   "id": "905c30a6",
   "metadata": {},
   "source": [
    "**Обзорная гистограмма и диаграмма размаха для признаков по длительности и выручке датафрейма df**"
   ]
  },
  {
   "cell_type": "code",
   "execution_count": null,
   "id": "59e9a5dc",
   "metadata": {},
   "outputs": [],
   "source": [
    "# признаки для гистограммы и диаграммы размаха\n",
    "num_col_names = ['длительность', 'выручка_пред_месяц', 'выручка_препред_месяц', 'выручка_тек_месяц']\n",
    "\n",
    "# вызов функции\n",
    "hist_all_num(num_col_names)"
   ]
  },
  {
   "cell_type": "markdown",
   "id": "bf270a83",
   "metadata": {},
   "source": [
    "*Результат.* Необходимость проведения масштабирования данных."
   ]
  },
  {
   "cell_type": "markdown",
   "id": "acaddfde",
   "metadata": {},
   "source": [
    "### Категориальные признаки"
   ]
  },
  {
   "cell_type": "markdown",
   "id": "5c5c6234",
   "metadata": {},
   "source": [
    "#### Функция графического представления категориальных признаков"
   ]
  },
  {
   "cell_type": "code",
   "execution_count": null,
   "id": "5f70c3af",
   "metadata": {},
   "outputs": [],
   "source": [
    "# функция  графического представления категориальных признаков\n",
    "\n",
    "def cat_category(cat_column):\n",
    "    if cat_column == 'популярная_категория': \n",
    "        rot_x = 45 \n",
    "    else: \n",
    "        rot_x = 0\n",
    "    plt.figure(figsize=(6, 2))\n",
    "    df[cat_column].value_counts(normalize=True).plot(kind='bar', rot=rot_x)\n",
    "    plt.title(f'Гистограмма распределения признака \"{cat_column}\"')\n",
    "    plt.ylabel('доля категорий')\n",
    "    plt.xlabel('значения признака')\n",
    "    plt.ylabel('частота')\n",
    "    plt.show()\n",
    "    return"
   ]
  },
  {
   "cell_type": "code",
   "execution_count": null,
   "id": "df78f187",
   "metadata": {},
   "outputs": [],
   "source": [
    "# категориальные столбцы\n",
    "df.select_dtypes(exclude='number').columns.tolist()"
   ]
  },
  {
   "cell_type": "markdown",
   "id": "709793b3",
   "metadata": {},
   "source": [
    "#### Целевой признак \"покупательская_активность\""
   ]
  },
  {
   "cell_type": "code",
   "execution_count": null,
   "id": "9377a912",
   "metadata": {},
   "outputs": [],
   "source": [
    "cat_category('покупательская_активность')"
   ]
  },
  {
   "cell_type": "code",
   "execution_count": null,
   "id": "e58baa74",
   "metadata": {},
   "outputs": [],
   "source": [
    "# замена значений категорильного столбца:\n",
    "# 1 - при снижении покупательской активности\n",
    "# 0 - при сохранении покупательской активности\n",
    "# df['покупательская_активность'] = df['покупательская_активность'].apply(lambda x: 1 if x=='Снизилась' else 0)"
   ]
  },
  {
   "cell_type": "markdown",
   "id": "6f4d0311",
   "metadata": {},
   "source": [
    "#### Признак \"тип_сервиса\""
   ]
  },
  {
   "cell_type": "code",
   "execution_count": null,
   "id": "4b85f7b8",
   "metadata": {},
   "outputs": [],
   "source": [
    "cat_category('тип_сервиса')"
   ]
  },
  {
   "cell_type": "markdown",
   "id": "a4bb6869",
   "metadata": {},
   "source": [
    "#### Признак \"разрешить_сообщать\""
   ]
  },
  {
   "cell_type": "code",
   "execution_count": null,
   "id": "6122b2f7",
   "metadata": {},
   "outputs": [],
   "source": [
    "cat_category('разрешить_сообщать')"
   ]
  },
  {
   "cell_type": "markdown",
   "id": "8d82d44d",
   "metadata": {},
   "source": [
    "#### Признак \"популярная_категория\""
   ]
  },
  {
   "cell_type": "code",
   "execution_count": null,
   "id": "1720a32b",
   "metadata": {},
   "outputs": [],
   "source": [
    "# визуализация частот признака \"популярная_категория\"\n",
    "(\n",
    "    df['популярная_категория']\n",
    "    .value_counts(normalize=True)\n",
    "    .sort_values(ascending=True)\n",
    "    .to_frame()\n",
    "    .plot(kind = 'barh', grid=True, fontsize = 12, figsize = (12,4))\n",
    ").set_title('Гистограмма распределения признака \"популярная_категория\"',  fontsize = 16, color = 'Black')\n",
    "plt.xlabel('доля категории', fontsize=15)\n",
    "plt.ylabel('названия категорий', fontsize=15)\n",
    "plt.show()"
   ]
  },
  {
   "cell_type": "markdown",
   "id": "da86e716",
   "metadata": {},
   "source": [
    "### Выводы:\n",
    "\n",
    "**1.** Перед исследовательским анализом данных было произведено их объединение в один датафрейм **df**.  При этом, в ходе проверки клиентов с покупательской активностью не менее трёх месяцев, то есть таких, которые что-либо покупали в этот период, вывлено не было.\n",
    "\n",
    "**2.** При ознакомлении с датафреймом **market_file** в признаке **покупательская_активность** было обнаружено последовательное следование сначала строк со значением этого признака 'Снизилась', а затем со значениями 'Прежний уровень'. Причем отмечается дисбаланс классов. При разбиении данных на выборки перед началом моделирования необходимо проведение стратификации данных.\n",
    "\n",
    "**3.** При ознакомлении с данными признака **\"маркет актив 6 мес\"** (п.3.2.3), **\"неоплач_прод_кварт\"** (п.3.2.8) обнаружены данные, выходящие за пределы боксплота, но не являющиеся аномалиями.\n",
    "\n",
    "**4.** Произведено преобразование дискретного количественного признака **маркет_актив_тек_мес** в порядковый категориальный.\n",
    "\n",
    "**5.** В данных по признаку **\"выручка_тек_месяц\"** (п.3.2.13) обнаружен аномальный выброс со значением **106,862.20 руб.**, который был удален путем замены на медианное значение по выборке, а именно на **5179.95 руб.**\n",
    "\n",
    "**6.** Построенные гистограмма и диаграмма размаха для количественных признаков датафрейма **df** позволяют сделать вывод о необходимости проведения масштабирования данных по признакам перед проведением моделирования.\n",
    "\n",
    "**7.** Гистограммы распределения категориальных признаков выявляют дисбаланс их классов.\n",
    "\n",
    "**8.** По целевому признаку **'покупательская_активность'** необходимо проведение стратификации данных ввиду существенного количественного отличия классов **\"снизилась\"** и **\"прежний уровень\"** (соотношение 2 к 3). "
   ]
  },
  {
   "cell_type": "code",
   "execution_count": null,
   "id": "9f5a27dc",
   "metadata": {},
   "outputs": [],
   "source": [
    "data_df = df[['маркет_актив_6_мес', 'акционные_покупки', 'тип_сервиса', 'длительность', 'прибыль', 'покупательская_активность']]\n",
    "sns.pairplot(data_df, hue = 'покупательская_активность');"
   ]
  },
  {
   "cell_type": "code",
   "execution_count": null,
   "id": "5b3bbb70",
   "metadata": {},
   "outputs": [],
   "source": [
    "g = sns.PairGrid(data_df, hue='покупательская_активность')\n",
    "g.map_diag(sns.histplot)\n",
    "g.map_offdiag(sns.scatterplot)\n",
    "g.add_legend();"
   ]
  },
  {
   "cell_type": "code",
   "execution_count": null,
   "id": "7feb263c",
   "metadata": {},
   "outputs": [],
   "source": [
    "sns.displot(data = df, x = 'длительность', hue='покупательская_активность', bins=20, multiple='dodge');  \n",
    "# histplot, discrete=True, multiple='dodge'stat='density'"
   ]
  },
  {
   "cell_type": "code",
   "execution_count": null,
   "id": "9743ce1d",
   "metadata": {},
   "outputs": [],
   "source": [
    "g = sns.FacetGrid(data_df, col='тип_сервиса', hue='покупательская_активность')\n",
    "g.map(sns.scatterplot, 'акционные_покупки', 'прибыль', alpha=.3)\n",
    "g.add_legend();"
   ]
  },
  {
   "cell_type": "markdown",
   "id": "0bcb951d",
   "metadata": {},
   "source": [
    "## Корреляцилнный анализ признаков"
   ]
  },
  {
   "cell_type": "markdown",
   "id": "3d35cbb0",
   "metadata": {},
   "source": [
    "### Отбор количественных непрерывных признаков для корреляционной матрицы"
   ]
  },
  {
   "cell_type": "code",
   "execution_count": null,
   "id": "2a092a56",
   "metadata": {},
   "outputs": [],
   "source": [
    "# dывод наименований всех признаков\n",
    "df.columns"
   ]
  },
  {
   "cell_type": "code",
   "execution_count": null,
   "id": "2bec1d42",
   "metadata": {},
   "outputs": [],
   "source": [
    "# количественные непрерывные признаки\n",
    "interval_cols=['маркет_актив_6_мес', 'длительность', 'акционные_покупки',\n",
    "               'выручка_препред_месяц', 'выручка_пред_месяц', 'выручка_тек_месяц']"
   ]
  },
  {
   "cell_type": "markdown",
   "id": "ac623ea6",
   "metadata": {},
   "source": [
    "### Матрица коэффициентов корреляции для целевого и входных признаков"
   ]
  },
  {
   "cell_type": "code",
   "execution_count": null,
   "id": "4db371ea",
   "metadata": {},
   "outputs": [],
   "source": [
    "# расчет матрицы корреляции\n",
    "phik_overview = df.phik_matrix(interval_cols=interval_cols)\n",
    "\n",
    "# вывод матрицы корреляции\n",
    "plot_correlation_matrix(\n",
    "    phik_overview.values,\n",
    "    x_labels=phik_overview.columns,\n",
    "    y_labels=phik_overview.index,\n",
    "    vmin=0, vmax=1, color_map='Greens',\n",
    "    title='Коэффициенты корреляции между признаками',\n",
    "    fontsize_factor=1.5,\n",
    "    figsize=(18, 15)\n",
    ") "
   ]
  },
  {
   "cell_type": "markdown",
   "id": "14017811",
   "metadata": {},
   "source": [
    "### Выводы:\n",
    "\n",
    "**1.** Выявлена умеренная корреляция между целевым признаком **'покупательская_активность'** и признаками **'неоплач_прод_кварт'** (0,40), **'популярная_категория'** (0,30).\n",
    "\n",
    "**2.** Заметная корреляция установлена между целевым признаком и признаками **'время_тек_месяц'** (0,57) и **'время_пред_месяц'** (0,60), **'выручка_препред_месяц'** (0.50), **'сред_просм_кат_за_визит'** (0.54), **'акционные_покупки_бин'** (0.49), **'маркет актив 6 мес'** (0.55).\n",
    "\n",
    "**3.** Высокая корреляция отмечена между целевым признаком и признаком **'страниц_за_визит'** (0.75).\n",
    "\n",
    "**4.** **Мультиколлениарность** признаков не выявлена."
   ]
  },
  {
   "cell_type": "markdown",
   "id": "ff1aecb5",
   "metadata": {},
   "source": [
    "**СОВЕТ 1. ДОПОЛНИТЕЛЬНЫЕ МАТРИЦЫ КОРРЕЛЯЦИИ**"
   ]
  },
  {
   "cell_type": "code",
   "execution_count": null,
   "id": "a0a702fc",
   "metadata": {},
   "outputs": [],
   "source": [
    "# расчет матрицы корреляции для 'покупательская_активность' == \"Прежний уровень\"\n",
    "phik_overview = df.query('покупательская_активность == \"Прежний уровень\"').phik_matrix(interval_cols=interval_cols)\n",
    "\n",
    "# вывод матрицы корреляции\n",
    "plot_correlation_matrix(\n",
    "    phik_overview.values,\n",
    "    x_labels=phik_overview.columns,\n",
    "    y_labels=phik_overview.index,\n",
    "    vmin=0, vmax=1, color_map='Greens',\n",
    "    title='Коэффициенты корреляции между признаками',\n",
    "    fontsize_factor=1.5,\n",
    "    figsize=(18, 15)\n",
    ") "
   ]
  },
  {
   "cell_type": "markdown",
   "id": "88dc8cb8",
   "metadata": {},
   "source": [
    "**СОВЕТ 2. ПРОВЕРКА НА МУЛЬТИКОЛЛИНЕАРНОСТЬ С ПОМОЩЬЮ VIF**"
   ]
  },
  {
   "cell_type": "code",
   "execution_count": null,
   "id": "154ff438",
   "metadata": {},
   "outputs": [],
   "source": [
    "X_df = df.copy()"
   ]
  },
  {
   "cell_type": "code",
   "execution_count": null,
   "id": "c27a28c4",
   "metadata": {},
   "outputs": [],
   "source": [
    "# категориальные признаки\n",
    "ohe_columns = [\n",
    "    'популярная_категория'   \n",
    "]\n",
    "\n",
    "# упорядоченные признаки\n",
    "ord_columns = [\n",
    "    'тип_сервиса',\n",
    "    'разрешить_сообщать',\n",
    "    'покупательская_активность'\n",
    "]\n",
    "\n",
    "# количественные признаки\n",
    "num_columns = [\n",
    "    'маркет_актив_6_мес',\n",
    "    'маркет_актив_тек_мес',\n",
    "    'длительность',\n",
    "    'акционные_покупки',\n",
    "    'сред_просм_кат_за_визит',\n",
    "    'неоплач_прод_кварт',\n",
    "    'ошибка_сервиса',\n",
    "    'страниц_за_визит',\n",
    "    'выручка_препред_месяц',\n",
    "    'выручка_пред_месяц',\n",
    "    'выручка_тек_месяц',\n",
    "    'время_пред_месяц',\n",
    "    'время_тек_месяц',\n",
    "    'прибыль'\n",
    "]"
   ]
  },
  {
   "cell_type": "code",
   "execution_count": null,
   "id": "5440e75e",
   "metadata": {},
   "outputs": [],
   "source": [
    "# SimpleImputer + OHE\n",
    "ohe_pipe_1 = Pipeline(\n",
    "    [\n",
    "        (\n",
    "            'simpleImputer_ohe', \n",
    "            SimpleImputer(missing_values=np.nan, strategy='most_frequent')\n",
    "        ),\n",
    "        (\n",
    "            'ohe', \n",
    "            OneHotEncoder(drop='first', handle_unknown='ignore', sparse_output=False)\n",
    "        )\n",
    "    ]\n",
    ") "
   ]
  },
  {
   "cell_type": "code",
   "execution_count": null,
   "id": "fbc889a4",
   "metadata": {},
   "outputs": [],
   "source": [
    "# SimpleImputer + ORD + SimpleImputer\n",
    "ord_pipe_1 = Pipeline(\n",
    "    [\n",
    "        (\n",
    "            'simpleImputer_before_ord', \n",
    "            SimpleImputer(missing_values=np.nan, strategy='most_frequent')\n",
    "        ),\n",
    "        (\n",
    "            'ord',  \n",
    "            OrdinalEncoder(\n",
    "                categories=[\n",
    "                    ['премиум', 'стандарт' ],\n",
    "                    ['да', 'нет'],\n",
    "                    ['Прежний уровень', 'Снизилась']\n",
    "                ], \n",
    "                handle_unknown='use_encoded_value', unknown_value=np.nan\n",
    "            )\n",
    "        ),\n",
    "        (\n",
    "            'simpleImputer_after_ord', \n",
    "            SimpleImputer(missing_values=np.nan, strategy='most_frequent')\n",
    "        )\n",
    "    ]\n",
    ") "
   ]
  },
  {
   "cell_type": "code",
   "execution_count": null,
   "id": "486f0359",
   "metadata": {},
   "outputs": [],
   "source": [
    "data_preprocessor = ColumnTransformer(\n",
    "    [\n",
    "        ('ohe', ohe_pipe_1, ohe_columns),\n",
    "        ('ord', ord_pipe_1, ord_columns),\n",
    "        ('num', MinMaxScaler(), num_columns)\n",
    "    ], \n",
    "    remainder='passthrough'\n",
    ")"
   ]
  },
  {
   "cell_type": "code",
   "execution_count": null,
   "id": "ff12199a",
   "metadata": {},
   "outputs": [],
   "source": [
    "X_df = pd.DataFrame(data_preprocessor.fit_transform(df), columns=data_preprocessor.get_feature_names_out())"
   ]
  },
  {
   "cell_type": "code",
   "execution_count": null,
   "id": "cd3d0ac5",
   "metadata": {
    "scrolled": true
   },
   "outputs": [],
   "source": [
    "X_df.columns"
   ]
  },
  {
   "cell_type": "code",
   "execution_count": null,
   "id": "99952acd",
   "metadata": {},
   "outputs": [],
   "source": [
    "# \"укорачивание\" названий признаков в преобразованных тренировочной и тестовой выборках\n",
    "new_names = ['косметика_и_аксесуары', 'кухонная_посуда', 'бытовая_техника_и_эл_ка', \n",
    "             'тех_красоты_и_здоровья', 'товары_для_детей', 'тип_сервиса_стандарт', \n",
    "             'разрешить_сообщать', 'покупательская_активность', \n",
    "             'маркет_актив_6_мес', 'маркет_актив_тек_мес', 'длительность', \n",
    "             'акционные_покупки', 'сред_просм_за_визит', 'отказов_за_квартал', \n",
    "             'ошибка_сервиса', 'страниц_за_визит', 'выручка_препред_месяц', \n",
    "             'выручка_пред_месяц', 'выручка_тек_месяц', 'время_пред_месяц', \n",
    "             'время_тек_месяц', 'прибыль']\n",
    "\n",
    "X_df.columns = new_names"
   ]
  },
  {
   "cell_type": "code",
   "execution_count": null,
   "id": "4ae0be55",
   "metadata": {},
   "outputs": [],
   "source": [
    "X_df.head(2)"
   ]
  },
  {
   "cell_type": "code",
   "execution_count": null,
   "id": "0afa392a",
   "metadata": {},
   "outputs": [],
   "source": [
    "# VIF dataframe\n",
    "vif_data = pd.DataFrame()\n",
    "vif_data['ПРИЗНАКИ     '] = X_df.columns\n",
    "\n",
    "# calculating VIF for each feature\n",
    "vif_data['VIF'] = [variance_inflation_factor(X_df.values, i) for i in range(len(X_df.columns))]\n",
    "\n",
    "print(vif_data)"
   ]
  },
  {
   "cell_type": "markdown",
   "id": "089ead89",
   "metadata": {},
   "source": [
    "**СОВЕТ 1. Cвязь между выручка текущая - выручка за прошлый с помощью scatter_plot.**"
   ]
  },
  {
   "cell_type": "code",
   "execution_count": null,
   "id": "9d43f0da",
   "metadata": {},
   "outputs": [],
   "source": [
    "data_df = df[['выручка_тек_месяц', 'выручка_пред_месяц', 'выручка_препред_месяц', 'покупательская_активность']]\n",
    "g = sns.PairGrid(data_df, hue='покупательская_активность')\n",
    "g.map_diag(sns.histplot)\n",
    "g.map_offdiag(sns.scatterplot)\n",
    "g.add_legend();"
   ]
  },
  {
   "cell_type": "code",
   "execution_count": null,
   "id": "30af60fc",
   "metadata": {},
   "outputs": [],
   "source": [
    "data_cut_1 = X_df[['тип_сервиса_стандарт', 'разрешить_сообщать', 'покупательская_активность']]\n",
    "data_cut_1['выручка_препред_пред'] = X_df['выручка_препред_месяц'] + X_df['выручка_пред_месяц']\n",
    "g = sns.PairGrid(data_cut_1, hue='покупательская_активность')\n",
    "g.map_diag(sns.histplot)\n",
    "g.map_offdiag(sns.scatterplot)\n",
    "g.add_legend();"
   ]
  },
  {
   "cell_type": "code",
   "execution_count": null,
   "id": "8554d8f4",
   "metadata": {},
   "outputs": [],
   "source": [
    "data_cut_2 = X_df[['бытовая_техника_и_эл_ка', 'тех_красоты_и_здоровья', 'покупательская_активность']]\n",
    "data_cut_2['выручка_препред_пред'] = X_df['выручка_препред_месяц'] + X_df['выручка_пред_месяц']\n",
    "g = sns.PairGrid(data_cut_2, hue='покупательская_активность')\n",
    "g.map_diag(sns.histplot)\n",
    "g.map_offdiag(sns.scatterplot)\n",
    "g.add_legend();"
   ]
  },
  {
   "cell_type": "code",
   "execution_count": null,
   "id": "bd4c6466",
   "metadata": {},
   "outputs": [],
   "source": [
    "data_df_1 = df[['покупательская_активность']]\n",
    "data_df_1['выручка_пред_препред'] =  X_df['выручка_пред_месяц'] - X_df['выручка_препред_месяц']\n",
    "data_df_1['выручка_тек_пред'] =  X_df['выручка_тек_месяц'] - X_df['выручка_пред_месяц']\n",
    "g = sns.PairGrid(data_df_1, hue='покупательская_активность')\n",
    "g.map_diag(sns.histplot)\n",
    "g.map_offdiag(sns.scatterplot)\n",
    "g.add_legend();"
   ]
  },
  {
   "cell_type": "markdown",
   "id": "31a30574",
   "metadata": {},
   "source": [
    "## Создание пайплайна, определение лучшей модели"
   ]
  },
  {
   "cell_type": "markdown",
   "id": "561b6de4",
   "metadata": {},
   "source": [
    "### Подготовка данных\n",
    "\n",
    "При проведении разбиения данных на выборки была проведена стратификация, о необходимости которой указано в **выводе 2 п.3.4**. Для логистической модели изначально была предусмотрена **L1-регуляризация**."
   ]
  },
  {
   "cell_type": "markdown",
   "id": "f761e442",
   "metadata": {},
   "source": [
    "#### Разбиение исходных данных (датафрейм df) на выборки"
   ]
  },
  {
   "cell_type": "code",
   "execution_count": null,
   "id": "36897582",
   "metadata": {},
   "outputs": [],
   "source": [
    "# обзор исходного датафрейма\n",
    "df.head(2)"
   ]
  },
  {
   "cell_type": "code",
   "execution_count": null,
   "id": "e3faef0a",
   "metadata": {},
   "outputs": [],
   "source": [
    "X = df.drop(columns='покупательская_активность') # выборка исходных признаков\n",
    "y = df['покупательская_активность']              # выборка целевого признака\n",
    "\n",
    "# деление данных на тренировочные и тестовые, стратификация данных\n",
    "X_train, X_test, y_train, y_test = train_test_split(\n",
    "    X,\n",
    "    y,\n",
    "    test_size=TEST_SIZE,\n",
    "    random_state=RANDOM_STATE,\n",
    "    stratify=y)"
   ]
  },
  {
   "cell_type": "code",
   "execution_count": null,
   "id": "4fb2bba7",
   "metadata": {},
   "outputs": [],
   "source": [
    "X_test[['прибыль']].head()"
   ]
  },
  {
   "cell_type": "markdown",
   "id": "afb27b91",
   "metadata": {},
   "source": [
    "#### Кодирование целевого признака с помощью LabelEncoder"
   ]
  },
  {
   "cell_type": "code",
   "execution_count": null,
   "id": "33086c13",
   "metadata": {},
   "outputs": [],
   "source": [
    "# объявление трансформера категорильного признака (y_train)\n",
    "label_encoder = LabelEncoder()\n",
    "\n",
    "# преобразование значений категориального признака в 0 и 1\n",
    "y_train = label_encoder.fit_transform(y_train.values)\n",
    "y_test = label_encoder.transform(y_test.values)\n",
    "\n",
    "# проверка кодирования\n",
    "y_test"
   ]
  },
  {
   "cell_type": "code",
   "execution_count": null,
   "id": "6bb6a87b",
   "metadata": {},
   "outputs": [],
   "source": [
    "# проверка, что 0 - 'Прежний уровень', 1 - 'Снизилась'\n",
    "pred_classes = [0, 1, 0, 1, 1]\n",
    "print(label_encoder.inverse_transform(pred_classes)) "
   ]
  },
  {
   "cell_type": "code",
   "execution_count": null,
   "id": "3bcdfdd9",
   "metadata": {},
   "outputs": [],
   "source": [
    "# сохранение в отдельных датафреймах значений признака 'прибыль' для использования в дальнейшем\n",
    "money_train = X_train[['прибыль']].reset_index(drop=True)\n",
    "money_test = X_test[['прибыль']].reset_index(drop=True)\n",
    "\n",
    "# удаление признака 'прибыль' перед моделированием\n",
    "X_train = X_train.drop(columns='прибыль')\n",
    "X_test = X_test.drop(columns='прибыль')\n",
    "\n",
    "money_test.head(3) # контроль преобразования"
   ]
  },
  {
   "cell_type": "markdown",
   "id": "8dbcbfb7",
   "metadata": {},
   "source": [
    "####  Группировка по типам исходных данных"
   ]
  },
  {
   "cell_type": "code",
   "execution_count": null,
   "id": "ff994efc",
   "metadata": {},
   "outputs": [],
   "source": [
    "# категориальные признаки\n",
    "ohe_columns = [\n",
    "    'популярная_категория'   \n",
    "]\n",
    "\n",
    "# упорядоченные признаки\n",
    "ord_columns = [\n",
    "    'тип_сервиса',\n",
    "    'разрешить_сообщать'\n",
    "]\n",
    "\n",
    "# количественные признаки\n",
    "num_columns = [\n",
    "    'маркет_актив_6_мес',\n",
    "    'маркет_актив_тек_мес',\n",
    "    'длительность',\n",
    "    'акционные_покупки',\n",
    "    'сред_просм_кат_за_визит',\n",
    "    'неоплач_прод_кварт',\n",
    "    'ошибка_сервиса',\n",
    "    'страниц_за_визит',\n",
    "    'выручка_препред_месяц',\n",
    "    'выручка_пред_месяц',\n",
    "    'выручка_тек_месяц',\n",
    "    'время_пред_месяц',\n",
    "    'время_тек_месяц'\n",
    "]"
   ]
  },
  {
   "cell_type": "markdown",
   "id": "baceab76",
   "metadata": {},
   "source": [
    "### Построение и применение пайплайна"
   ]
  },
  {
   "cell_type": "markdown",
   "id": "7945dd84",
   "metadata": {},
   "source": [
    "#### OHE-кодирование"
   ]
  },
  {
   "cell_type": "code",
   "execution_count": null,
   "id": "6adb61a3",
   "metadata": {},
   "outputs": [],
   "source": [
    "# SimpleImputer + OHE\n",
    "ohe_pipe = Pipeline(\n",
    "    [\n",
    "        (\n",
    "            'simpleImputer_ohe', \n",
    "            SimpleImputer(missing_values=np.nan, strategy='most_frequent')\n",
    "        ),\n",
    "        (\n",
    "            'ohe', \n",
    "            OneHotEncoder(drop='first', handle_unknown='ignore', sparse_output=False)\n",
    "        )\n",
    "    ]\n",
    ") "
   ]
  },
  {
   "cell_type": "markdown",
   "id": "dcdbecd4",
   "metadata": {},
   "source": [
    "#### ORD-кодирование"
   ]
  },
  {
   "cell_type": "code",
   "execution_count": null,
   "id": "e2e6d582",
   "metadata": {},
   "outputs": [],
   "source": [
    "# SimpleImputer + ORD + SimpleImputer\n",
    "ord_pipe = Pipeline(\n",
    "    [\n",
    "        (\n",
    "            'simpleImputer_before_ord', \n",
    "            SimpleImputer(missing_values=np.nan, strategy='most_frequent')\n",
    "        ),\n",
    "        (\n",
    "            'ord',  \n",
    "            OrdinalEncoder(\n",
    "                categories=[\n",
    "                    ['премиум', 'стандарт' ],\n",
    "                    ['да', 'нет']\n",
    "                ], \n",
    "                handle_unknown='use_encoded_value', unknown_value=np.nan\n",
    "            )\n",
    "        ),\n",
    "        (\n",
    "            'simpleImputer_after_ord', \n",
    "            SimpleImputer(missing_values=np.nan, strategy='most_frequent')\n",
    "        )\n",
    "    ]\n",
    ") "
   ]
  },
  {
   "cell_type": "markdown",
   "id": "9d639a9f",
   "metadata": {},
   "source": [
    "#### Масштабирование количественных признаков и объединение подготовительных процедур"
   ]
  },
  {
   "cell_type": "code",
   "execution_count": null,
   "id": "74bc5a88",
   "metadata": {},
   "outputs": [],
   "source": [
    "data_preprocessor = ColumnTransformer(\n",
    "    [\n",
    "        ('ohe', ohe_pipe, ohe_columns),\n",
    "        ('ord', ord_pipe, ord_columns),\n",
    "        ('num', StandardScaler(), num_columns)\n",
    "    ], \n",
    "    remainder='passthrough'\n",
    ")"
   ]
  },
  {
   "cell_type": "markdown",
   "id": "3107711f",
   "metadata": {},
   "source": [
    "#### Итоговый пайплайн для обучения модели"
   ]
  },
  {
   "cell_type": "code",
   "execution_count": null,
   "id": "8b154198",
   "metadata": {},
   "outputs": [],
   "source": [
    "# preprocessor__num = preprocessor_ + _num:\n",
    "# preprocessor__num — пайплайн, в котором находится шаг масштабирования\n",
    "# num — шаг масштабирования с методом и списком столбцов\n",
    "#'passthrough' — вариант без масштабирования\n",
    "\n",
    "# итоговый пайплайн: подготовка данных и модель\n",
    "pipe_final= Pipeline([\n",
    "    ('preprocessor', data_preprocessor),\n",
    "    ('models', DecisionTreeClassifier(random_state=RANDOM_STATE))\n",
    "])\n",
    "\n",
    "param_distributions = [\n",
    "    # словарь для модели KNeighborsClassifier() \n",
    "#    {\n",
    "        # название модели\n",
    "#        'models': [KNeighborsClassifier()],\n",
    "        # указываем гиперпараметр модели n_neighbors\n",
    "#        'models__n_neighbors': range(10, 20),\n",
    "        # указываем список методов масштабирования\n",
    "#        'preprocessor__num': [StandardScaler(), MinMaxScaler()]   \n",
    "#    },\n",
    "    # словарь для модели DecisionTreeClassifier()\n",
    "    {\n",
    "        'models': [DecisionTreeClassifier(random_state=RANDOM_STATE)],\n",
    "        'models__max_depth': range(2, 9),\n",
    "        'models__max_features': range(2, 4),\n",
    "        'preprocessor__num': [StandardScaler(), MinMaxScaler(), 'passthrough']  \n",
    "    },\n",
    "    # словарь для модели SVC()\n",
    "    {\n",
    "        'models': [SVC(kernel='linear', random_state=RANDOM_STATE, class_weight='balanced', probability=True)],\n",
    "        'models__C': [0.1, 0.2, 0.3],\n",
    "        'models__gamma': [0.3, 0.4, 0.5],\n",
    "        'preprocessor__num': [StandardScaler(), MinMaxScaler(), 'passthrough']  \n",
    "\n",
    "    },\n",
    "    # словарь для модели LogisticRegression()\n",
    "    {\n",
    "        'models': [LogisticRegression(\n",
    "            random_state=RANDOM_STATE,\n",
    "            class_weight='balanced',\n",
    "            solver='saga',                   \n",
    "            penalty= 'l1'\n",
    "        )],\n",
    "        'models__C': range(1,6), # [0.1, 0.2, 0.3, 0.4, 0.5, 0.6, 0.7, 0.8, 0.9, 1, 2, 3, 4, 5, 6] range(1,10),\n",
    "        'preprocessor__num': [StandardScaler(), MinMaxScaler(), 'passthrough']  \n",
    "    }\n",
    "]"
   ]
  },
  {
   "cell_type": "code",
   "execution_count": null,
   "id": "5a952044",
   "metadata": {},
   "outputs": [],
   "source": [
    "# cловарь с двумя метриками:\n",
    "# - roc-auc с именем roc_auc_score;\n",
    "# - recall с именем recall_score;\n",
    "# - f1 с именем f1__score.\n",
    "scoring = {\n",
    "    'roc_auc_score': 'roc_auc',\n",
    "    'recall_score': 'recall',\n",
    "    'f1__score': 'f1'\n",
    "} \n",
    "\n",
    "# перебор вариантов масштабирования и гиперпараметров для моделей из pipe_final\n",
    "randomized_search = RandomizedSearchCV(\n",
    "    pipe_final, \n",
    "    param_distributions=param_distributions,\n",
    "    cv = 5, \n",
    "    scoring = scoring,\n",
    "    refit ='roc_auc_score',\n",
    "    random_state = RANDOM_STATE,\n",
    "    n_jobs = -1\n",
    ")"
   ]
  },
  {
   "cell_type": "markdown",
   "id": "06ad987b",
   "metadata": {},
   "source": [
    "#### Применение пайплайна к тренировочным данным"
   ]
  },
  {
   "cell_type": "code",
   "execution_count": null,
   "id": "c3fba811",
   "metadata": {},
   "outputs": [],
   "source": [
    "# обучение модели на тренировочной выборке\n",
    "randomized_search.fit(X_train, y_train) "
   ]
  },
  {
   "cell_type": "markdown",
   "id": "6eb3fa29",
   "metadata": {},
   "source": [
    "#### Наилучшая модель и ее метрика по итогам использования пайплайна"
   ]
  },
  {
   "cell_type": "code",
   "execution_count": null,
   "id": "f036fdf7",
   "metadata": {},
   "outputs": [],
   "source": [
    "print('Лучшая модель и её параметры:\\n\\n', randomized_search.best_estimator_) "
   ]
  },
  {
   "cell_type": "code",
   "execution_count": null,
   "id": "b2f62aa1",
   "metadata": {},
   "outputs": [],
   "source": [
    "print(f'Параметры лучшей модели: {randomized_search.best_params_}')"
   ]
  },
  {
   "cell_type": "code",
   "execution_count": null,
   "id": "432fc7d5",
   "metadata": {},
   "outputs": [],
   "source": [
    "print(f'Метрика ROC-AUC лучшей модели: {randomized_search.best_score_:.3f}')"
   ]
  },
  {
   "cell_type": "code",
   "execution_count": null,
   "id": "f3437705",
   "metadata": {},
   "outputs": [],
   "source": [
    "# cтрока в таблице для лучшей модели\n",
    "print('Номер строки с параметрами лучшей модели: ', randomized_search.best_index_)"
   ]
  },
  {
   "cell_type": "code",
   "execution_count": null,
   "id": "221b0074",
   "metadata": {},
   "outputs": [],
   "source": [
    "# транспонированная (для удобства) таблица с результатами работы пайплайна\n",
    "print(pd.DataFrame(randomized_search.cv_results_).T)"
   ]
  },
  {
   "cell_type": "markdown",
   "id": "bc209735",
   "metadata": {},
   "source": [
    "#### Извлечение преобразованных пайплайном выборок"
   ]
  },
  {
   "cell_type": "code",
   "execution_count": null,
   "id": "cd613f97",
   "metadata": {},
   "outputs": [],
   "source": [
    "# обучение и преобразование препроцессором данных X_train\n",
    "data_preprocessor.fit_transform(X_train)"
   ]
  },
  {
   "cell_type": "code",
   "execution_count": null,
   "id": "ac2d00a4",
   "metadata": {},
   "outputs": [],
   "source": [
    "# получение преобразованной пайплайном тренировочной выборки\n",
    "train_new = pd.DataFrame(randomized_search.best_estimator_['preprocessor'].fit_transform(X_train), columns=data_preprocessor.get_feature_names_out())\n",
    "train_new.head(2)"
   ]
  },
  {
   "cell_type": "code",
   "execution_count": null,
   "id": "5d4c8317",
   "metadata": {},
   "outputs": [],
   "source": [
    "# получение преобразованной пайплайном тестовой выборки\n",
    "test_new = pd.DataFrame(randomized_search.best_estimator_['preprocessor'].fit_transform(X_test), columns=data_preprocessor.get_feature_names_out())\n",
    "test_new.head(2)"
   ]
  },
  {
   "cell_type": "code",
   "execution_count": null,
   "id": "c35d6a09",
   "metadata": {},
   "outputs": [],
   "source": [
    "# \"укорачивание\" названий признаков в преобразованных тренировочной и тестовой выборках\n",
    "new_names = ['косметика_и_аксесуары', 'кухонная_посуда', 'бытовая_техника_и_эл_ка', \n",
    "             'тех_красоты_и_здоровья', 'товары_для_детей', 'тип_сервиса_стандарт', \n",
    "             'разрешить_сообщать', 'маркет_актив_6_мес', 'маркет_актив_тек_мес', \n",
    "             'длительность', 'акционные_покупки', 'сред_просм_за_визит', \n",
    "             'отказов_за_квартал', 'ошибка_сервиса', 'страниц_за_визит', \n",
    "             'выручка_препред_месяц', 'выручка_пред_месяц', 'выручка_тек_месяц', \n",
    "             'время_пред_месяц', 'время_тек_месяц']\n",
    "\n",
    "train_new.columns = new_names\n",
    "test_new.columns =  new_names"
   ]
  },
  {
   "cell_type": "code",
   "execution_count": null,
   "id": "65bc5b07",
   "metadata": {},
   "outputs": [],
   "source": [
    "train_new.columns # проверка переименований"
   ]
  },
  {
   "cell_type": "markdown",
   "id": "e839d237",
   "metadata": {},
   "source": [
    "#### Расчет метрик качества лучшей модели на тестовых данных"
   ]
  },
  {
   "cell_type": "code",
   "execution_count": null,
   "id": "691a5749",
   "metadata": {},
   "outputs": [],
   "source": [
    "# применение обученной модели на тестовой выборке\n",
    "y_test_pred_new = randomized_search.best_estimator_['models'].predict(test_new)\n",
    "y_test_proba_new = randomized_search.best_estimator_['models'].predict_proba(test_new)[:,1]\n",
    "print('МЕТРИКИ ДЛЯ ТЕСТОВОЙ ВЫБОРКИ:')\n",
    "print(f'Метрика ROC-AUC: {roc_auc_score(y_test, y_test_proba_new):.3f}')\n",
    "print(f'Метрика accuracy:  {accuracy_score(y_test, y_test_pred_new):.3f}')\n",
    "print(f'Метрика precision:  {precision_score(y_test, y_test_pred_new):.3f}')\n",
    "print(f'Метрика recall:  {recall_score(y_test, y_test_pred_new):.3f}')\n",
    "print(f'Метрика f1:  {f1_score(y_test, y_test_pred_new):.3f}')"
   ]
  },
  {
   "cell_type": "markdown",
   "id": "f21b0466",
   "metadata": {},
   "source": [
    "### Выводы:"
   ]
  },
  {
   "cell_type": "markdown",
   "id": "1379eb91",
   "metadata": {},
   "source": [
    "**1.** Производилось обучение четырех моделей: **DecisionTreeClassifier(), LogisticRegression() и  SVC()**. Для каждой из них подбирался как минимум один гиперпараметр. Было произведено большое количество вариаций гиперпараметров, в результате чего была подобрана модель на основе логистической регресии, обладающая наилучшими показателями метрик качества. \n",
    "\n",
    "**2.** Лучшая модель на тестовых выборках обладает лучшей метрикой качества по сравнению с полученными на основе тренировочных выборок с валидацией.\n",
    "\n",
    "**3.** Для автоматизированного поиска оптимальных гиперпараметров использовался модуль **RandomizedSearchCV**, так как позволяет обеспечить оперативный поиск решений при большом количестве вариаций значений гиперпараметров.\n",
    "\n",
    "**4.** При подборе гиперпараметров использовалась метрика **ROC-AUC**, как характеризующая качество модели в целом, которая показывает зависимость TPR и FPR. Оценивает работу модели вне зависимости от выбранного порога вероятности, поэтому она всегда даёт адекватную оценку качества модели. Работает и при несбалансированных классах.\n",
    "\n",
    "**5.** Параметры лучшей модели: **{'preprocessor__num': MinMaxScaler(), 'models__C': 2, 'models': LogisticRegression(class_weight='balanced', penalty='l1', random_state=42, solver='saga')}**.\n",
    "\n",
    "**6.** Выбор пайплайном в качестве лучшей логистической модели представляется вполне объяснимой ввиду структуры исходных данных для анализа. Большинство признаков количественные. Между целевым признаком и шестью входящими признаками имеется умеренная линейная связь, а с еще одним признаком заметная связь.\n",
    "\n",
    "**7.** Метрики качества итоговой модели на тестовой выборке:\n",
    "\n",
    "* ROC-AUC: 0.922\n",
    "* accuracy:  0.855\n",
    "* precision:  0.794\n",
    "* recall:  0.839\n",
    "* f1:  0.816"
   ]
  },
  {
   "cell_type": "markdown",
   "id": "1128686d",
   "metadata": {},
   "source": [
    "## Анализ важности признаков"
   ]
  },
  {
   "cell_type": "markdown",
   "id": "18926e0e",
   "metadata": {},
   "source": [
    "### Анализ важности признаков по весовым коэффициентам логистической модели"
   ]
  },
  {
   "cell_type": "markdown",
   "id": "38cf3e25",
   "metadata": {},
   "source": [
    "#### Визуализация коэффициентов логистической модели"
   ]
  },
  {
   "cell_type": "code",
   "execution_count": null,
   "id": "abab6cc5",
   "metadata": {},
   "outputs": [],
   "source": [
    "# коэффициенты логистической регрессии\n",
    "coefficients = randomized_search.best_estimator_['models'].coef_[0]\n",
    "\n",
    "# формирование таблицы важности признаков\n",
    "feature_importance = pd.DataFrame(\n",
    "    {\n",
    "        'Feature': train_new.columns, \n",
    "        'Importance': np.abs(coefficients)\n",
    "    })\n",
    "\n",
    "# визуализация весов коэффициентов весов оптимизированной логистической модели\n",
    "feature_importance = feature_importance.sort_values('Importance', ascending=True)\n",
    "feature_importance.plot(x='Feature', y='Importance', kind='barh', grid=True, figsize=(8, 10))\n",
    "plt.title(f'Коэффициенты оптимизированной логистической модели')\n",
    "plt.xlabel('весовые значения'); "
   ]
  },
  {
   "cell_type": "markdown",
   "id": "a550a4d6",
   "metadata": {},
   "source": [
    "#### Выделение важных признаков путем максимизации значений метрики ROC-AUC при валидации тренировочной выборки"
   ]
  },
  {
   "cell_type": "code",
   "execution_count": null,
   "id": "667ff89c",
   "metadata": {},
   "outputs": [],
   "source": [
    "# вывод метрики при кросс-валидации\n",
    "print()\n",
    "print('Расчет метрики ROC-AUC при разных значениях feature_importance[\"Importance\"]:')\n",
    "print()\n",
    "\n",
    "# цикл по вычислению метрики ROC-AUC при разных порогах feature_importance[\"Importance\"]\n",
    "# вывод результатов расчета метрик для разных пороговых значений\n",
    "for i in range(0,12):\n",
    "    # формирование списка признаков более i\n",
    "    features_to_drop = feature_importance[\n",
    "        feature_importance['Importance'] <= 0.2*i\n",
    "    ]['Feature'].to_list()\n",
    "\n",
    "    # удаление признаков из датасета\n",
    "    X_train_less_features = train_new.drop(columns=features_to_drop)\n",
    "\n",
    "    # подсчет метрики при кросс-валидации\n",
    "    score = cross_val_score(\n",
    "        randomized_search.best_estimator_['models'],                     \n",
    "        X_train_less_features,\n",
    "        y_train,\n",
    "        scoring='roc_auc',\n",
    "        n_jobs=-1\n",
    "    ).mean()\n",
    "\n",
    "    # вывод метрики при заданной i-ой важности признаков\n",
    "    print(f'порог {(i*0.2):.1f}: {score:.3f}')"
   ]
  },
  {
   "cell_type": "code",
   "execution_count": null,
   "id": "0291732a",
   "metadata": {},
   "outputs": [],
   "source": [
    "# отбор признаков по оптимальному значению порога важности признака \n",
    "# и его весовому коэффициенту регрессии\n",
    "print('РЕЗУЛЬТАТ ОТБОРА ПРИЗНАКОВ:')\n",
    "print(feature_importance.query('Importance >= 0.2').sort_values('Importance', ascending=False))"
   ]
  },
  {
   "cell_type": "markdown",
   "id": "e5ca638b",
   "metadata": {},
   "source": [
    "*Результат.*\n",
    "\n",
    "Фильтрация признаков позволила позволила отобрать 14 признаков при оптимальном пороговом значении важности признака **0.4**: **'страниц_за_визит', 'отказов_за_квартал', 'сред_просм_за_визит', 'время_пред_месяц', 'маркет актив 6 мес', 'акционные_покупки', 'время_тек_месяц', 'выручка_препред_месяц', 'бытовая техника и эл-ка', 'выручка_пред_месяц', 'тех красоты и здоровья', 'выручка_тек_месяц', 'длительность', 'ошибка_сервиса'.**"
   ]
  },
  {
   "cell_type": "markdown",
   "id": "215dd212",
   "metadata": {},
   "source": [
    "### Отбор признаков на основе статистического теста SelectKBest"
   ]
  },
  {
   "cell_type": "markdown",
   "id": "2f859acd",
   "metadata": {},
   "source": [
    "#### Отбор на основе оценки взаимной информации между признаками"
   ]
  },
  {
   "cell_type": "code",
   "execution_count": null,
   "id": "b0652aa4",
   "metadata": {},
   "outputs": [],
   "source": [
    "print('ОТОБРАННЫЕ ПРИЗНАКИ:')\n",
    "#  тест на основе линейной зависимости между входным и целевым признаком\n",
    "selector = SelectKBest(mutual_info_classif, k=14) \n",
    "selector.fit(train_new, y_train)\n",
    "features_names = train_new.columns[selector.get_support(indices=True)]\n",
    "print('Тест на основе линейной зависимости:', list(features_names))"
   ]
  },
  {
   "cell_type": "markdown",
   "id": "d4056cbc",
   "metadata": {},
   "source": [
    "*Результат.*\n",
    "\n",
    "Совпадение по 13 признакам по сравнению с п.6.1.2."
   ]
  },
  {
   "cell_type": "markdown",
   "id": "aaa0204f",
   "metadata": {},
   "source": [
    "#### Отбор признаков по выручке от продаж покупателям в текущем месяце"
   ]
  },
  {
   "cell_type": "markdown",
   "id": "aa50de26",
   "metadata": {},
   "source": [
    "Здесь проводился эксперимент с использованием следующего критерия.\n",
    "\n",
    "При отборе признаков с помощью лучшей модели целесообразной представляется минимизация ошибки второго рода (**FN**), то есть случаев ошибочных предсказаний стабильной активности покупателей, но при эжтом, на самом деле, снижения активности покупателей вопреки прогнозу.\n",
    "\n",
    "Количество ошибочных предсказаний равно **FN**. Этому показателю соответсвует выручка за текущий месяц **fn** по данной группе покупателей.\n",
    "\n",
    "Ниже произведен отбор признаков (формирование их состава) на основе минимизации сумм потенциальных потерь, соответствующих ошибке **FN**."
   ]
  },
  {
   "cell_type": "code",
   "execution_count": null,
   "id": "bd4bd505",
   "metadata": {},
   "outputs": [],
   "source": [
    "# списки для итогового вывода результатов\n",
    "roc_auc = []\n",
    "money = []\n",
    "y_train = pd.DataFrame(data=y_train, columns=['покупательская_активность'])\n",
    "\n",
    "# параметры для вывода результатов\n",
    "min_select = 100000000000\n",
    "features_names_select = []\n",
    "i_select=0\n",
    "\n",
    "# заголовки столбцов\n",
    "print('количество   roc-auc     доход за тек. мес.')\n",
    "print('признаков                    усл.ед.')\n",
    "print()\n",
    "\n",
    "# датафреймы для анализа из п.5.2.7\n",
    "X_train_select =  train_new.copy()\n",
    "\n",
    "# лучшая модель\n",
    "model = randomized_search.best_estimator_['models']\n",
    "\n",
    "# циклический отбор признаков по максимальной выручке за 3 мес.\n",
    "for i in range(len(X_train_select.columns)):\n",
    "    # объявление селектора \n",
    "    # для подбора разного количества признаков за счёт цикла\n",
    "    selector = SelectKBest(f_classif, k=i+1)\n",
    "    selector.fit(X_train_select, y_train)\n",
    "    \n",
    "    # сохранение названия признаков в переменную features_names\n",
    "    features_names = selector.get_feature_names_out()\n",
    "\n",
    "    # формирование датафреймов с новым количеством признаков\n",
    "    X_train_new = X_train_select[list(features_names)]\n",
    "    \n",
    "    # инициализация и обучение модели\n",
    "    model.fit(X_train_new, y_train)\n",
    "    \n",
    "    # подсчет метрики при кросс-валидации\n",
    "    score = cross_val_score(\n",
    "        model,                     \n",
    "        X_train_new,\n",
    "        y_train,\n",
    "        scoring='roc_auc',\n",
    "        n_jobs=-1\n",
    "    ).mean()\n",
    "    \n",
    "    # расчет метрики roc-auc для i-ой совокупности признаков\n",
    "    roc_auc_new = score\n",
    "\n",
    "    # создание таблицы предсказаний для подсчёта прогнозов и суммарной выручки\n",
    "    predicts = X_train_select[['выручка_тек_месяц']].copy() \n",
    "    predicts['progn'] = cross_val_predict(model, X_train_new, y_train, n_jobs=-1)\n",
    "    predicts['y_train'] = y_train['покупательская_активность']            \n",
    "    \n",
    "    # подсчет выручки по клиентам, активность по которым снизилась при предсказанной стабильной активности\n",
    "    fn = predicts[(predicts['progn']==0)&(predicts['y_train']==1)]['выручка_тек_месяц'].sum()\n",
    "    \n",
    "    # выбор оптимального количества признаков и их перечня\n",
    "    if  fn < min_select:\n",
    "        min_select = fn\n",
    "        features_names_select = features_names\n",
    "        i_select = i + 1\n",
    "    \n",
    "    # заполнение списков для вывода результатов\n",
    "    roc_auc.append(roc_auc_new)\n",
    "    money.append(fn)\n",
    "    \n",
    "    # вывод результаатов\n",
    "    if i+1 < 10:\n",
    "        print(f'    {i+1}         {roc_auc_new:.3f}            {fn:.0f}')\n",
    "    else:\n",
    "        print(f'    {i+1}        {roc_auc_new:.3f}            {fn:.0f}')\n",
    "        \n",
    "print()\n",
    "print(f'Отобрано {i_select} признаков:')\n",
    "print()\n",
    "print(features_names_select)"
   ]
  },
  {
   "cell_type": "markdown",
   "id": "6fe92009",
   "metadata": {},
   "source": [
    "*Результат.*\n",
    "\n",
    "Отобраны 9 признаков, также входящие в состав признаов, отобранных в п.6.1.2 и п.6.2.1. Данному набору признаков при минимальной выручке (**34**) соответствует максимальный показатель метрики ROC-AUC (**0,902**)."
   ]
  },
  {
   "cell_type": "markdown",
   "id": "f1bafb37",
   "metadata": {},
   "source": [
    "### Анализ значимости признаков по методу SHAP"
   ]
  },
  {
   "cell_type": "markdown",
   "id": "1514d827",
   "metadata": {},
   "source": [
    "####  Диаграмма общей значимости признаков"
   ]
  },
  {
   "cell_type": "code",
   "execution_count": null,
   "id": "cbb1486b",
   "metadata": {},
   "outputs": [],
   "source": [
    "model = randomized_search.best_estimator_['models']\n",
    "explainer = shap.LinearExplainer(model, test_new)\n",
    "shap_values = explainer(test_new)\n",
    "\n",
    "plt.title('Значимость признаков по методу SHAP', fontsize=20)\n",
    "plt.ylabel('признаки', fontsize=16)\n",
    "shap.plots.bar(shap_values, max_display=20) \n",
    "plt.show()"
   ]
  },
  {
   "cell_type": "markdown",
   "id": "5a44abe8",
   "metadata": {},
   "source": [
    "#### Анализ значимости признаков с их расширеной визуализацией"
   ]
  },
  {
   "cell_type": "code",
   "execution_count": null,
   "id": "356ac679",
   "metadata": {},
   "outputs": [],
   "source": [
    "plt.title('Анализ значимости признаков с их расширеной визуализацией', fontsize=20)\n",
    "plt.ylabel('признаки', fontsize=16)\n",
    "shap.plots.beeswarm(shap_values, max_display=20)\n",
    "plt.show()"
   ]
  },
  {
   "cell_type": "markdown",
   "id": "7afc9754",
   "metadata": {},
   "source": [
    "#### Общие заключения по графику значимости признаков SHAP"
   ]
  },
  {
   "cell_type": "markdown",
   "id": "36605da3",
   "metadata": {},
   "source": [
    "**1.** Существенное время, проведимое покупателями на сайте интернет-магазина ('сред_просм_за_визит', 'страниц_за_визит', 'время_пред_месяц', 'время_тек_месяц'), говорит о привлекательности предложений и способствует сохранению активности покупателей.\n",
    "\n",
    "**2.** Увеличение количества отказов от покупок обуславливает снижение интереса клиентов к интернет-ресурсу.\n",
    "\n",
    "**3.** Выделяется группа покупателей с повышенным участием в акциях компании, но, в то же время, сокращающие свои покупки. Поведение данной категории клиентов целесообразно проанализировать.\n",
    "\n",
    "**4.** Активная маркетинговая политика компании однозначно положительно сказывается на активности пользователей сайта. Снижение маркетинговых коммуникаций вызывает спад заинтересованности.\n",
    "\n",
    "**5.** Отмечаются незначительная по составу группа клиентов, заинтересованных в регулярном (сохраняется интерес) приобретении бытовой техники и электронии, и группа, покупающая технику для красоты и здоровья."
   ]
  },
  {
   "cell_type": "markdown",
   "id": "ecc91574",
   "metadata": {},
   "source": [
    "### Выводы:\n",
    "\n",
    "**1.** При анализе весовых коэффициентов логистической модели (п.6.1) важными классифицированы следующие 14 признаков:\n",
    "* **'страниц_за_визит'** - среднее количество страниц, которые просмотрел покупатель за один визит на сайт за 3 месяца;\n",
    "* **'отказов_за_квартал'** - общее число неоплаченных товаров в корзине за последние 3 месяца;\n",
    "* **'сред_просм_за_визит'** -  сколько в среднем категорий покупатель просмотрел за визит в течение последнего месяца;\n",
    "* **'время_пред_месяц'** - время на сайте в минутах, зафиксированное за предыдущий месяц;\n",
    "* **'маркет актив 6 мес'** -  среднемес. значение маркетинг. коммуникаций, которое приходилось на покупателя за 6 месяцев;\n",
    "* **'акционные_покупки'** - среднемесячная доля покупок по акции от общего числа покупок за последние 6 месяцев;\n",
    "* **'время_тек_месяц'** - время на сайте в минутах, зафиксированное за предыдущий месяц;\n",
    "* **'выручка_препред_месяц'** - сумма выручки за препредыдущий месяц;\n",
    "* **'бытовая техника и эл-ка'** - популярная категория \"бытовая техника и электроника\";\n",
    "* **'выручка_пред_месяц'** - сумма выручки за предыдущий месяц;\n",
    "* **'тех красоты и здоровья'** - 'популярная категория \"техника для красоты и здоровья\";\n",
    "* **'выручка_тек_месяц'** - сумма выручки за текущий месяц;\n",
    "* **'длительность'** - значение, которое показывает, сколько дней прошло с момента регистрации покупателя на сайте;\n",
    "* **'ошибка_сервиса'** - число сбоев, которые коснулись покупателя во время посещения сайта.\n",
    "\n",
    "Остальные признаки при добавлении с исследуемую выборку ухудшают качество модели (метрика **'ROC-AUC'**) и могут быть признаны малозначимыми, а именно: \n",
    "\n",
    "**'тип_сервиса_стандарт', 'товары_для_детей', 'косметика и аксесуары', 'маркет_актив_тек_мес', 'разрешить_сообщать_нет', 'кухонная_посуда'**.\n",
    "\n",
    "**2.** Схожий по большинству признаков результат отбора наиболее важных признаков дает метод **SelectKBest** (совпадение по 13 признакам с п.1 выводов, п.6.4).\n",
    "\n",
    "**3.** В ходе работы над проетом в состав количественных признаков были включены дополнительные два признака, представляющие собой разность выручек по текущему и предыдущему, предыдущему и препредыдущему месяцам. Но, по итогам моделирования, добавление этих признаков ухудшило качество модели. При этом пайплайн отобрал ту же логистическую модель с теми же параметрами. Данные признаки были исключены из анализа. "
   ]
  },
  {
   "cell_type": "markdown",
   "id": "b750b044",
   "metadata": {},
   "source": [
    "## Сегментация покупателей"
   ]
  },
  {
   "cell_type": "markdown",
   "id": "c08e9ae3",
   "metadata": {},
   "source": [
    "При работе над проектом произведен анализ следующих сегментов покупателей:\n",
    "\n",
    "* с максимальной долей покупок по акции и высокой вероятностью снижения покупательской активности;\n",
    "*  покупающих только технику (товары с длинным жизненным циклом);\n",
    "* с дефицитом маркетинговых коммуникаций с интернет-магазином."
   ]
  },
  {
   "cell_type": "markdown",
   "id": "bf1cff80",
   "metadata": {},
   "source": [
    "### Подготовка к анализу признаков"
   ]
  },
  {
   "cell_type": "markdown",
   "id": "0775db38",
   "metadata": {},
   "source": [
    "#### формирование датафрейма X_test_df для изучения признаков\n",
    "\n",
    "Данный датафрейм собран на основе тестового датафрейма **test_new** (см.5.2.7) и датафрейма **y_test**, содержащего вероятности присвоения целевому признаку 1 (снижение покупательской активности) и столбец 'прогноз_снижения' с информаацией о прогнозируемой активности."
   ]
  },
  {
   "cell_type": "markdown",
   "id": "c72ca11c",
   "metadata": {},
   "source": [
    "#### Функция построения диаграмм рассеяния c разделением по целевому признаку"
   ]
  },
  {
   "cell_type": "code",
   "execution_count": null,
   "id": "fc3f36c1",
   "metadata": {},
   "outputs": [],
   "source": [
    "# СОЗДАНИЕ ТАБЛИЦЫ С ПРОГНОЗНЫМИ ЗНАЧЕНИЯМИ\n",
    "# первая категория относится к 'прогноз_снижения'=1 (снижение активности)\n",
    "# вторая категория относится к 'прогноз_снижения'=0 (активность сохранится)\n",
    "\n",
    "X_test_df = pd.DataFrame(data=y_test, columns=['покупательская_активность'])\n",
    "\n",
    "# добавление признака - вероятности снижения покупательской активности \n",
    "# для объектов тестовой выборки на основе лучшей модели (test_new из п.5.2.7)\n",
    "X_test_df['probability'] = randomized_search.best_estimator_['models'].predict_proba(test_new)[:,1]\n",
    "\n",
    "# добавление столбца с классификацией целевого признака по пороговому значению 0,5\n",
    "X_test_df['прогноз_снижения'] = X_test_df['probability'].apply(lambda x: 1 if x>= 0.5 else 0)\n",
    "\n",
    "# добавление признака прибыльности по покупателям\n",
    "X_test_df = X_test_df.join(money_test)\n",
    "\n",
    "# присоединение столбца test_new (взят из 5.2.7)\n",
    "X_test_df = X_test_df.join(test_new)\n",
    "\n",
    "# переименования для удобства при визуализации\n",
    "X_test_df['покупательская_активность'] = X_test_df['покупательская_активность'].apply(lambda x: 'снижение' if x==1 else 'преж_уровень')\n",
    "X_test_df['прогноз_снижения'] = X_test_df['прогноз_снижения'].apply(lambda x: 'снижение' if x==1 else 'преж_уровень')\n",
    "\n",
    "X_test_df.head(3) # контроль создания датафрейма"
   ]
  },
  {
   "cell_type": "code",
   "execution_count": null,
   "id": "51ada67a",
   "metadata": {},
   "outputs": [],
   "source": [
    "# функция построения диаграмм рассеяния\n",
    "def compare_plot(feature_1, feature_2, feature_3):\n",
    "    plt.figure(figsize=(8, 6))\n",
    "    plt.title(\n",
    "        f'Зависимость признака \"{feature_2}\" от \"{feature_1}\" с разделением по признаку \"{feature_3}\"', \n",
    "        fontsize=12)\n",
    "    plt.ylabel(feature_2, fontsize=10)\n",
    "    plt.xlabel(feature_1, fontsize=10)\n",
    "    sns.scatterplot(data=segm_df, \n",
    "                    x=feature_1, \n",
    "                    y=feature_2, \n",
    "                    hue=feature_3)\n",
    "    plt.show()"
   ]
  },
  {
   "cell_type": "markdown",
   "id": "626d292f",
   "metadata": {},
   "source": [
    "#### Функция построения диаграмм влияния каждого признака на отдельные объекты (метод SHAP)"
   ]
  },
  {
   "cell_type": "code",
   "execution_count": null,
   "id": "37296df7",
   "metadata": {},
   "outputs": [],
   "source": [
    "# функция построения диаграмм влияния признаков на целевой признак\n",
    "def shap_fun(ind):\n",
    "    for i in ind:\n",
    "        print('Покупатель под индексом', i)\n",
    "        shap.plots.waterfall(shap_values[i])"
   ]
  },
  {
   "cell_type": "markdown",
   "id": "325c1ced",
   "metadata": {},
   "source": [
    "### Анализ сегмента клиентов с максимальной долей покупок по акции и высокой вероятностью снижения покупательской активности"
   ]
  },
  {
   "cell_type": "markdown",
   "id": "1ef21cc5",
   "metadata": {},
   "source": [
    "#### Выделение сегмента с высокой вероятностью снижения покупательской активности"
   ]
  },
  {
   "cell_type": "code",
   "execution_count": null,
   "id": "0d697d5c",
   "metadata": {},
   "outputs": [],
   "source": [
    "# определение границы сегмента по признаку 'probability'\n",
    "segm_df = X_test_df\n",
    "\n",
    "# вызов функции построения диаграммы рассеяния\n",
    "compare_plot('probability', 'прибыль', 'покупательская_активность')"
   ]
  },
  {
   "cell_type": "code",
   "execution_count": null,
   "id": "7d8510cf",
   "metadata": {},
   "outputs": [],
   "source": [
    "# формирование сегмента с высокими значениями 'probability'\n",
    "segm_df = X_test_df.query('probability > 0.8')\n",
    "\n",
    "# вызов функции построения диаграммы рассеяния\n",
    "compare_plot('probability', 'прибыль', 'покупательская_активность')"
   ]
  },
  {
   "cell_type": "markdown",
   "id": "1859b285",
   "metadata": {},
   "source": [
    "#### Выделение сегмента клиентов с максимальной долей покупок по акции и высокой вероятностью снижения покупательской активности "
   ]
  },
  {
   "cell_type": "code",
   "execution_count": null,
   "id": "4a2cee96",
   "metadata": {},
   "outputs": [],
   "source": [
    "# зависимость долей покупок по акции от вероятности снижения покупательской активности\n",
    "# вызов функции построения диаграммы рассеяния\n",
    "compare_plot('probability', 'акционные_покупки', 'покупательская_активность')"
   ]
  },
  {
   "cell_type": "code",
   "execution_count": null,
   "id": "8ed474ae",
   "metadata": {},
   "outputs": [],
   "source": [
    "# формирование сегмента  сегмента клиентов с максимальной долей покупок по акции \n",
    "# и высокой вероятностью снижения покупательской активности\n",
    "segm_df = segm_df.query('акционные_покупки > 0.7')\n",
    "\n",
    "# вызов функции построения диаграммы рассеяния\n",
    "compare_plot('probability', 'акционные_покупки', 'покупательская_активность')"
   ]
  },
  {
   "cell_type": "code",
   "execution_count": null,
   "id": "e9689dae",
   "metadata": {},
   "outputs": [],
   "source": [
    "# формирование сегмента  сегмента клиентов с максимальной долей покупок по акции,\n",
    "# (при высокой вероятности снижения покупательской активности)\n",
    "# в зависиости от количества неоплаченных товаров\n",
    "segm_df = segm_df.query('акционные_покупки > 0.7')\n",
    "\n",
    "# вызов функции построения диаграммы рассеяния\n",
    "compare_plot('отказов_за_квартал', 'акционные_покупки', 'покупательская_активность')"
   ]
  },
  {
   "cell_type": "markdown",
   "id": "075413c3",
   "metadata": {},
   "source": [
    "#### Анализ влияния отдельных признаков на классификацию целевого признака "
   ]
  },
  {
   "cell_type": "code",
   "execution_count": null,
   "id": "fff526bb",
   "metadata": {},
   "outputs": [],
   "source": [
    "# нахождение индексов по объектам сегмента\n",
    "segm_ind = segm_df.index\n",
    "\n",
    "# вывод соответствующих индексов\n",
    "print('Перечень индексов строк для рассматриваемого сегмента:')\n",
    "display(segm_ind)"
   ]
  },
  {
   "cell_type": "code",
   "execution_count": null,
   "id": "62515ba6",
   "metadata": {},
   "outputs": [],
   "source": [
    "# влияние признаков на типичные объекты анализа (10 первых индексов для примера)\n",
    "list_act = [10,  21,  22,  28,  34,  51,  66,  80,  84,  97]\n",
    "\n",
    "print('ДИАГРАММЫ ВЛИЯНИЯ ОТДЕЛЬНЫХ ПРИЗНАКОВ НА ЦЕЛЕВОЙ ДЛЯ ОБЪЕКТОВ СЕГМЕНТА')\n",
    "print()\n",
    "\n",
    "# функция построения диаграмм влияния отдельных признаков\n",
    "shap_fun(list_act)"
   ]
  },
  {
   "cell_type": "markdown",
   "id": "f385243a",
   "metadata": {},
   "source": [
    "*Результат.*\n",
    "\n",
    "Характеристики покупателей сегмента:\n",
    "* высокая активность участия в акциях компании;\n",
    "* значительное количество неоплаченных товаров в корзине за последние 3 месяца;\n",
    "* низкие среднемесячные значение маркетинговых коммуникаций компании с покупателями за последние 6 месяцев;\n",
    "* низкие значения среднего количества категорий, просмотренных покупателем за визит в течение последнего месяца;\n",
    "* низкие значения времени, проведенного на сайте.\n",
    "\n",
    "Данный сегмент представляет собой покупателей, краткосрочно пользующихся интернет-ресурсом сайта для покупки товаров в период проведения акций. При прекращении проведения акций интерес к интернет-магазину у этой группы покупателей падает, снижается покупательская активность, о чем свидетельствуют: 1) низкие значения среднего количества категорий, просмотренных покупателем за визит в течение последнего месяца; 2) низкие значения времени, проведенного на сайте.\n",
    "\n",
    "Одним из ключеввых признаков, существенно влияющих на снижение активности покупателей из данного сегмента, являются низкие маркетинговые коммуникации копмпании с ними (число рассылок, звонков, показов рекламы и прочего).\n",
    "\n",
    "Практически по всем покупателям рассматриваемого сегмента отмечаются случаи неоплаты некоторых товаров. Предположительно данное обстоятельство связано с тем, что пользователи ресурса заказывают товары по акциям с избытком для выбора (ассортимента) и в пункте выдачи отказываются от части товаров. Значительное количество отказов от оплаты влечет за собой для компании дополнительные издержки, связанные с возвратом товаров на склады из пунктов выдачи. \n",
    "\n",
    "*Рекомендации заказчику:*\n",
    "\n",
    "1.Разработка мероприятий по активизации маркетинговых коммуникаций в отношении покупателей из данного сегмента.\n",
    "\n",
    "2.Расширение ассортимента за счет товаров с более низкими по сранению с имеющимися ценовыми уровнями, расчитанными на рассматриваемых покупателей.\n",
    "\n",
    "3.С целью сокращения издержек компании по возврату неоплаченных товаров предусмотреть для данного сегмента покупателей ограничение количества заказываемых позиций по акциям.\n"
   ]
  },
  {
   "cell_type": "markdown",
   "id": "75412afd",
   "metadata": {},
   "source": [
    "### Анализ сегмента клиентов, покупающих товары с длинным жизненным циклом"
   ]
  },
  {
   "cell_type": "markdown",
   "id": "aad3d106",
   "metadata": {},
   "source": [
    "#### Выделение сегмента покупателей товаров с длительным жизненным циклом (техника и посуда)"
   ]
  },
  {
   "cell_type": "code",
   "execution_count": null,
   "id": "041a4d1c",
   "metadata": {},
   "outputs": [],
   "source": [
    "# выделение сегмента покупателей, приобретающих только товары длительного жизненного цикла\n",
    "segm_df = X_test_df.query('((бытовая_техника_и_эл_ка == 1) or (кухонная_посуда == 1) or \\\n",
    "(тех_красоты_и_здоровья == 1)) and ((косметика_и_аксесуары == 0) or (товары_для_детей ==0))')\n",
    "\n",
    "# вызов функции построения диаграммы рассеяния\n",
    "compare_plot('probability', 'прибыль', 'покупательская_активность')"
   ]
  },
  {
   "cell_type": "code",
   "execution_count": null,
   "id": "5940bfc1",
   "metadata": {},
   "outputs": [],
   "source": [
    "# формирование сегмента с высокими значениями 'probability' (признак снижения пок. активности)\n",
    "segm_df = segm_df.query('probability > 0.8')\n",
    "\n",
    "# вызов функции построения диаграммы рассеяния\n",
    "compare_plot('probability', 'прибыль', 'покупательская_активность')"
   ]
  },
  {
   "cell_type": "markdown",
   "id": "b0a9816d",
   "metadata": {},
   "source": [
    "#### Анализ влияния отдельных признаков на классификацию целевого признака "
   ]
  },
  {
   "cell_type": "code",
   "execution_count": null,
   "id": "085e126d",
   "metadata": {},
   "outputs": [],
   "source": [
    "# нахождение индексов по объектам сегмента\n",
    "segm_ind = segm_df.index\n",
    "\n",
    "# вывод индексов по выбранным объектам\n",
    "print('Перечень индексов строк для рассматриваемого сегмента:')\n",
    "display(segm_ind)"
   ]
  },
  {
   "cell_type": "code",
   "execution_count": null,
   "id": "fc9399f7",
   "metadata": {},
   "outputs": [],
   "source": [
    "# влияние признаков на типичные объекты анализа (10 первых индексов для примера)\n",
    "list_act = [10,  19,  21,  22,  34,  51,  52,  62,  80, 163]\n",
    "\n",
    "print('ДИАГРАММЫ ВЛИЯНИЯ ОТДЕЛЬНЫХ ПРИЗНАКОВ НА ЦЕЛЕВОЙ ДЛЯ ОБЪЕКТОВ СЕГМЕНТА')\n",
    "print()\n",
    "\n",
    "# функция построения диаграмм влияния отдельных признаков\n",
    "shap_fun(list_act)"
   ]
  },
  {
   "cell_type": "markdown",
   "id": "906c811e",
   "metadata": {},
   "source": [
    "*Результат.*\n",
    "\n",
    "Характеристики покупателей сегмента:\n",
    "* высокая активность участия в акциях компании;\n",
    "* значительное количество неоплаченных товаров в корзине за последние 3 месяца;\n",
    "* низкие средние значения количества страниц, которые просмотрели покупатели за один визит на сайт за последние 3 месяца.\n",
    "\n",
    "Среди покупателей товаров с длительным жизненным циклом преобладают активные пользователи акционных покупок, целеноправленно выбирающие группы товаров со скидками (о чем свидетельствуеют незначительные количества посещаемых страниц сайта магазина).\n",
    "\n",
    "*Рекомендации заказчику:*\n",
    "\n",
    "1.Доработка интерфейса сайта с целью поддержания интереса пользователей сайта к ресурсу, например:\n",
    "* закрепления на страницах с предлагаемыми по акции товарами ссылок на другие страницы сайта с потенциально интересными для покупателей данного сегмента предложениями;\n",
    "* публикация на страницах с акционными товарами объявлений о проведении следующих акций и т.д.\n",
    "\n",
    "2.С целью снижения количества неоплаченных товаров анализ необходимости доработки интерфейса формирования заказа товаров."
   ]
  },
  {
   "cell_type": "markdown",
   "id": "5f27ee65",
   "metadata": {},
   "source": [
    "## Выводы"
   ]
  },
  {
   "cell_type": "markdown",
   "id": "179a0c16",
   "metadata": {},
   "source": [
    "В задачу проекта входила разработка решения, позволяющего персонализировать предложения постоянным клиентам интернет-магазина для увеличения их покупательской активности. Для чего построить модель, которая предскажет вероятность снижения покупательской активности клиента в следующие три месяца. Используя данные модели необходимо выделить сегменты покупателей и разработать для них персонализированные предложения.\n",
    "\n",
    "Исходные данные для работы находились в нескольких таблицах, содержащих информацию по следующим группам признаков:\n",
    "* коммуникации с клиентом;\n",
    "* продуктивное поведение;\n",
    "* поведение на сайте;\n",
    "* финансовое поведение.\n",
    "\n",
    "Для удобства работы над проектом данные были сведены в один датафрейм.\n",
    "\n",
    "В ходе предобработки данных осуществлялась их проверка на наличие пропусков, полных дубликатов, наличие неявных дубликатов в категориальных признаках. Были обнаружены и устранены неявные дубликаты.\n",
    "\n",
    "В процессе исследовательского анализа данных были выявлены и устранены аномалии (выбросы) в данных (путем замены на медианные значения). Также сделан вывод о необходимости масштабирования значений исходных данных и стратификации целевого признака.\n",
    "\n",
    "Для поиска лучшей модели использовался пайплайн. Во время подготовки данных применялся **ColumnTransformer**. Количественные и категориальные признаки обрабатывались в пайплайне раздельно. Для кодирования категориальных признаков были использованы два кодировщика (**OneHotEncoder** и **LabelEncoder**), для масштабирования количественных — два скейлера (**StandardScaler** и **MinMaxScaler**). \n",
    "\n",
    "Обучались четыре модели: **DecisionTreeClassifier(), LogisticRegression() и  SVC()**. Для каждой из них подберался как минимум один гиперпараметр. Для задачи была выбрана метрика **roc_auc**, ее выбор аргументирован в выводах к разделу 5 (п.5.3). Данная метрика использовалась при подборе гиперпараметров.\n",
    "\n",
    "В качестве лучшей была выбрана модель: **LogisticRegression(C=2, penalty='l1', random_state=42, class_weight='balanced', solver='saga').**\n",
    "\n",
    "После выбора лучшей модели была произведена ее доработка на предмет повышения качества модели:\n",
    "* добавление в модель настройки **class_weight**;\n",
    "* подбор оптимальных значений метрик качества **(precision, recall, f1)**.\n",
    "\n",
    "Все результаты работы детально изложены в ходе проекта, подробные выводы к разделам сведены в **п.1.3, п.2.4, п.3.4, п.4.3, п.5.3, п.6.4, п.7.2.3, п.7.3.2.**\n",
    "\n",
    "В ходе проекта были установлены следующие важные признаки:\n",
    "\n",
    "* **'отказов_за_квартал'** - общее число неоплаченных товаров в корзине за последние 3 месяца;\n",
    "* **'страниц_за_визит'** - среднее количество страниц, которые просмотрел покупатель за один визит на сайт за 3 месяца;\n",
    "* **'сред_просм_за_визит'** -  сколько в среднем категорий покупатель просмотрел за визит в течение последнего месяца;\n",
    "* **'акционные_покупки'** - среднемесячная доля покупок по акции от общего числа покупок за последние 6 месяцев;\n",
    "* **'время_пред_месяц'** - время на сайте в минутах, зафиксированное за предыдущий месяц;\n",
    "* **'маркет актив 6 мес'** -  среднемес. значение маркетинг. коммуникаций, которое приходилось на покупателя за 6 месяцев;\n",
    "* **'время_тек_месяц'** - время на сайте в минутах, зафиксированное за предыдущий месяц;\n",
    "* **'бытовая техника и эл-ка'** - один из классов популярной категории товаров;\n",
    "* **'выручка_препред_месяц'** - траты покупателей за препредыдущий месяц;\n",
    "* **'выручка_пред_месяц'** - траты покупателей за предыдущий месяц;\n",
    "* **'тех красоты и здоровья'** - один из классов популярной категории товаров;\n",
    "* **'выручка_тек_месяц'** - траты покупателей за предыдущий месяц.\n",
    "\n",
    "В заключении проекта **(раздел 7)**  производилась сегментация покупателей. Используя результаты моделирования и данные о прибыльности покупателей проведилось графическое и аналитическое исследование групп покупателей.\n",
    "\n",
    "Анализировалась группа клиентов с максимальной долей покупок по акции и высокой вероятностью снижения покупательской активности. При анализе данного сегмента покупателей, проявляющих высокую активность в акциях компании по льготной продаже товаров, было установлено, что подавляющее большинство представителей этой группы предположительно являются эпизодическими (временными) пользователями услуг интернет-магазина, заинтересованными в бюджетных покупках. По ним зафиксирована слабая маркетинговая коммуникация компании, низкая посещаемость сайта при высоком уровне отказов от покупок. Из этого сделано предположение о наличии узкого ассортимента товаров для данной целевой аудитории. В связи с чем, руководству компании предлагается провести исследование ценовых предложений по всем группам товаров и, при необходимости, расширить их ассортимент. После чего предусмотреть пути активизации маркетинговых мероприятий для более активного предложения товаров данным покупателям.\n",
    "\n",
    "При анализе сегмента пользователей, приобретающих только товары длительного жтзненного цикла, было установлено, что в подавляющем большинстве данные товары покупаются ими по акциям.\n",
    "\n",
    "**Рекомендации руководству компании \"В один клик\"!**\n",
    "\n",
    "1.Разработка мероприятий по активизации маркетинговых коммуникаций в отношении покупателей рассмотренных сегментов.\n",
    "\n",
    "2.Расширение ассортимента интернет-магазина за счет товаров с более низкими по сранению с имеющимися ценовыми уровнями.\n",
    "\n",
    "3.С целью сокращения издержек компании по возврату неоплаченных по акциям товаров предусмотреть для рассмотренных сегментов покупателей ограничение количества заказываемых позиций по акциям.\n",
    "\n",
    "4.Доработка интерфейса сайта с целью поддержания интереса вышеуказанных пользователей сайта к ресурсу, например:\n",
    "* закрепления на страницах с предлагаемыми по акции товарами ссылок на другие страницы сайта с потенциально интересными для этих покупателей предложениями;\n",
    "* публикация на страницах с акционными товарами объявлений о проведении следующих акций и т.д.\n",
    "\n",
    "5.Расширение состава признаков и проведение дополнительных исследований на предмет установления причин неоплаты заказанных товаров."
   ]
  }
 ],
 "metadata": {
  "kernelspec": {
   "display_name": "Python 3 (ipykernel)",
   "language": "python",
   "name": "python3"
  },
  "language_info": {
   "codemirror_mode": {
    "name": "ipython",
    "version": 3
   },
   "file_extension": ".py",
   "mimetype": "text/x-python",
   "name": "python",
   "nbconvert_exporter": "python",
   "pygments_lexer": "ipython3",
   "version": "3.9.20"
  },
  "toc": {
   "base_numbering": 1,
   "nav_menu": {},
   "number_sections": true,
   "sideBar": true,
   "skip_h1_title": true,
   "title_cell": "Table of Contents",
   "title_sidebar": "Contents",
   "toc_cell": false,
   "toc_position": {
    "height": "calc(100% - 180px)",
    "left": "10px",
    "top": "150px",
    "width": "384px"
   },
   "toc_section_display": true,
   "toc_window_display": true
  }
 },
 "nbformat": 4,
 "nbformat_minor": 5
}
